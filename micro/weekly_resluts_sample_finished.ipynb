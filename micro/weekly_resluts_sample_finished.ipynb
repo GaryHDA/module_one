{
 "cells": [
  {
   "cell_type": "markdown",
   "metadata": {},
   "source": [
    "### Data transformation and visualiztion note book\n",
    "#### Section micro\n",
    "### Solved for varying dilutions and number of samples\n"
   ]
  },
  {
   "cell_type": "code",
   "execution_count": 1,
   "metadata": {},
   "outputs": [],
   "source": [
    "import pandas as pd\n",
    "import numpy as np\n",
    "import matplotlib\n",
    "import matplotlib.pyplot as plt"
   ]
  },
  {
   "cell_type": "code",
   "execution_count": 2,
   "metadata": {},
   "outputs": [],
   "source": [
    "# get the data\n",
    "a = pd.read_csv('data/forReview_RAoctB.csv')"
   ]
  },
  {
   "cell_type": "code",
   "execution_count": 3,
   "metadata": {},
   "outputs": [],
   "source": [
    "# this is a duplicate value in the DF, data was moved(added as a record)\n",
    "a.drop(12, inplace=True)"
   ]
  },
  {
   "cell_type": "code",
   "execution_count": 4,
   "metadata": {},
   "outputs": [],
   "source": [
    "a.drop(38, inplace=True)"
   ]
  },
  {
   "cell_type": "code",
   "execution_count": 5,
   "metadata": {},
   "outputs": [
    {
     "name": "stdout",
     "output_type": "stream",
     "text": [
      "['Date', 'Location', 'medium', 'Samples', 'Sampling_Notes', 'Water_temp', 'Plating_notes', 'Temp_incubation', 'P1_qty_sample', 'Image_24h_fluo_plate_one', 'P1_fluo_halo_colonies', 'P1_fluo_other', 'Plate_one_24h_image', 'P1_24h_big_blue', 'P1_24h_med_blue', 'P1_24h_green', 'P1_24h_turq', 'P1_24h_pink', 'P1_24h_other', 'Comments_p1_24h', 'Plate_one_48h_image', 'P1_48h_big_blue', 'P1_48h_med_blue', 'P1_48h_green', 'P1_48h_turq', 'P1_48h_pink', 'P1_48h_other', 'Comments_p1_48h', 'P2_qty_sample', 'Image_24h_fluo_plate_two', 'P2_fluo_halo_colonies', 'P2_fluo_other', 'Plate_two_24h_image', 'P2_24h_big_blue', 'P2_24h_med_blue', 'P2_24h_green', 'P2_24h_turq', 'P2_24h_pink', 'P2_24h_other', 'Comments_p2_24h', 'Plate_two_48h_image', 'P2_48h_big_blue', 'P2_48h_med_blue', 'P2_48h_green', 'P2_48h_turq', 'P2_48h_pink', 'P2_48h_other', 'Comments_p2_48h', 'P3_qty_sample', 'Image_24h_fluo_plate_three', 'p3_fluo_halo_colonies', 'p3_fluo_other', 'Plate_three_24h_image', 'P3_24h_big_blue', 'P3_24h_med_blue', 'P3_24h_green', 'P3_24h_turq', 'P3_24h_pink', 'P3_24h_other', 'Comments_p3_24h', 'Plate_three_48h_image', 'P3_48h_big_blue', 'P3_48h_med_blue', 'P3_48h_green', 'P3_48h_turq', 'P3_48h_pink', 'P3_48h_other', 'Comments_p3_48h', 'latitude', 'longitude', 'Location_Image']\n"
     ]
    }
   ],
   "source": [
    "# this is \"record data\" each row corresponds to an event:\n",
    "### each event is a water sample from a location on particular day\n",
    "#### for each event there are three samples, those three samples get split between three agar plates\n",
    "##### each plate can have a total result of x_total = x1 + x2 +...+ x6\n",
    "###### x1 ... x6 are subtotals that can be compared across dates and/or locations\n",
    "# do the steps to get the descriptive statistics\n",
    "# create output that can be used by : javaScript, django, bokeh\n",
    "### at a granularity appropriate to establish an accurate assesment of the laboratory results\n",
    "a_cols = list(a.columns)\n",
    "def print_this_list(a):\n",
    "    for x in a:\n",
    "        print(x)\n",
    "print(a_cols)\n",
    "#check the columns"
   ]
  },
  {
   "cell_type": "code",
   "execution_count": 6,
   "metadata": {},
   "outputs": [
    {
     "data": {
      "text/plain": [
       "0    2017/06/12\n",
       "1    2017/06/12\n",
       "2    2017/06/12\n",
       "3    2017/06/12\n",
       "4    2017/06/12\n",
       "5    2017/06/12\n",
       "6    2017/06/19\n",
       "7    2017/06/19\n",
       "8    2017/06/19\n",
       "9    2017/06/19\n",
       "Name: Date, dtype: object"
      ]
     },
     "execution_count": 6,
     "metadata": {},
     "output_type": "execute_result"
    }
   ],
   "source": [
    "# go in a terminal and check the date column\n",
    "# it is in %y%.m%.d format\n",
    "# for whatever reason the pd,datetime did not recoginze the data 17.06.12\n",
    "# it flipped it to : 17.12.06 ---- which wont work\n",
    "# so use some list index and str properties to make this right\n",
    "b = a['Date'].copy()\n",
    "new_dates = []\n",
    "new_dic = {}\n",
    "for x in b:\n",
    "    year = '20'+str(x[6:])\n",
    "    day = x[:2]\n",
    "    month = x[3:5]\n",
    "    new_d = year + '/' + str(month) + '/' + str(day)\n",
    "    new_dates.append({x:new_d})\n",
    "    new_dic.update({x:new_d})\n",
    "new_dates[:10]\n",
    "\n",
    "a['Date'] = a['Date'].map(new_dic)\n",
    "a['Date'][:10]"
   ]
  },
  {
   "cell_type": "code",
   "execution_count": 7,
   "metadata": {},
   "outputs": [],
   "source": [
    "# So there are alot of columns here\n",
    "# index will be\n",
    "# 'Date', 'Location', 'medium', 'Samples', 'Sampling_Notes', 'Water_temp', 'Plating_notes', 'Temp_incubation',\n",
    "# I want that with each record for now\n",
    "\n",
    "plate_one = ['P1_qty_sample',\n",
    "             'Image_24h_fluo_plate_one',\n",
    "             'P1_fluo_halo_colonies',\n",
    "             'P1_fluo_other',\n",
    "             'Plate_one_24h_image',\n",
    "             'P1_24h_big_blue',\n",
    "             'P1_24h_med_blue',\n",
    "             'P1_24h_green',\n",
    "             'P1_24h_turq',\n",
    "             'P1_24h_pink',\n",
    "             'P1_24h_other',\n",
    "             'Comments_p1_24h',\n",
    "             'Plate_one_48h_image',\n",
    "             'P1_48h_big_blue',\n",
    "             'P1_48h_med_blue',\n",
    "             'P1_48h_green',\n",
    "             'P1_48h_turq',\n",
    "             'P1_48h_pink',\n",
    "             'P1_48h_other',\n",
    "             'Comments_p1_48h']"
   ]
  },
  {
   "cell_type": "code",
   "execution_count": 8,
   "metadata": {},
   "outputs": [],
   "source": [
    "plate_two = ['P2_qty_sample',\n",
    "             'Image_24h_fluo_plate_two',\n",
    "             'P2_fluo_halo_colonies',\n",
    "             'P2_fluo_other',\n",
    "             'Plate_two_24h_image',\n",
    "             'P2_24h_big_blue',\n",
    "             'P2_24h_med_blue',\n",
    "             'P2_24h_green',\n",
    "             'P2_24h_turq',\n",
    "             'P2_24h_pink',\n",
    "             'P2_24h_other',\n",
    "             'Comments_p2_24h',\n",
    "             'Plate_two_48h_image',\n",
    "             'P2_48h_big_blue',\n",
    "             'P2_48h_med_blue',             \n",
    "             'P2_48h_green',\n",
    "             'P2_48h_turq',\n",
    "             'P2_48h_pink',\n",
    "             'P2_48h_other',\n",
    "             'Comments_p2_48h']"
   ]
  },
  {
   "cell_type": "code",
   "execution_count": 9,
   "metadata": {},
   "outputs": [],
   "source": [
    "plate_three = ['P3_qty_sample',\n",
    "               'Image_24h_fluo_plate_three',\n",
    "               'p3_fluo_halo_colonies',\n",
    "               'p3_fluo_other',\n",
    "               'Plate_three_24h_image',\n",
    "               'P3_24h_big_blue',\n",
    "               'P3_24h_med_blue',\n",
    "               'P3_24h_green',\n",
    "               'P3_24h_turq',\n",
    "               'P3_24h_pink',\n",
    "               'P3_24h_other',\n",
    "               'Comments_p3_24h',\n",
    "               'Plate_three_48h_image',\n",
    "               'P3_48h_big_blue',\n",
    "               'P3_48h_med_blue',\n",
    "               'P3_48h_green',\n",
    "               'P3_48h_turq',\n",
    "               'P3_48h_pink',\n",
    "               'P3_48h_other',\n",
    "               'Comments_p3_48h'] "
   ]
  },
  {
   "cell_type": "code",
   "execution_count": 10,
   "metadata": {},
   "outputs": [],
   "source": [
    "map_it = ['Location','latitude', 'longitude']"
   ]
  },
  {
   "cell_type": "code",
   "execution_count": 11,
   "metadata": {},
   "outputs": [],
   "source": [
    "index = ['Date',\n",
    "         'Location',\n",
    "         'medium',\n",
    "         'Samples',\n",
    "         'Sampling_Notes',\n",
    "         'Water_temp',\n",
    "         'Plating_notes',\n",
    "         'Temp_incubation',]"
   ]
  },
  {
   "cell_type": "code",
   "execution_count": 12,
   "metadata": {},
   "outputs": [
    {
     "name": "stdout",
     "output_type": "stream",
     "text": [
      "71 71\n"
     ]
    }
   ],
   "source": [
    "# so the info repeats it self for each plate\n",
    "# set up lists and variables to keep track of all that\n",
    "# make sure that all the column names are accounted for\n",
    "# we have yet to account for 'location_image'\n",
    "def count_it(a):\n",
    "    n = 0\n",
    "    for x in a:\n",
    "        a = len(x)\n",
    "        n += a\n",
    "    return n\n",
    "groups = [index, map_it, plate_one, plate_two, plate_three]\n",
    "print(count_it(groups), len(a_cols))\n",
    "# the count works because the column 'location image' is not included"
   ]
  },
  {
   "cell_type": "code",
   "execution_count": 13,
   "metadata": {},
   "outputs": [
    {
     "name": "stdout",
     "output_type": "stream",
     "text": [
      "74 71\n"
     ]
    }
   ],
   "source": [
    "loc_image = ['Date', 'Location', 'Location_Image']\n",
    "groups.append(loc_image)\n",
    "print(count_it(groups), len(a_cols))\n",
    "#should be plus three"
   ]
  },
  {
   "cell_type": "code",
   "execution_count": 14,
   "metadata": {},
   "outputs": [],
   "source": [
    "# okay onwards\n",
    "# break the results into time scale (beacuase i can)\n",
    "# the info repeats it self\n",
    "# this should get dwon to a series of lists\n",
    "# if executed in right sequence as variables \n",
    "# will extract all possible combinations of the data provided\n",
    "plate_one_24 = ['P1_qty_sample',\n",
    "                'Plate_one_24h_image',\n",
    "                'P1_24h_big_blue',\n",
    "                'P1_24h_med_blue',\n",
    "                'P1_24h_green',\n",
    "                'P1_24h_turq',\n",
    "                'P1_24h_pink',\n",
    "                'P1_24h_other',\n",
    "                'Comments_p1_24h',]\n",
    "             \n",
    "plate_one_48 = ['P1_qty_sample',\n",
    "                'Plate_one_48h_image',\n",
    "                'P1_48h_big_blue',\n",
    "                'P1_48h_med_blue',\n",
    "                'P1_48h_green',\n",
    "                'P1_48h_turq',\n",
    "                'P1_48h_pink',\n",
    "                'P1_48h_other',\n",
    "                'Comments_p1_48h']\n"
   ]
  },
  {
   "cell_type": "code",
   "execution_count": 15,
   "metadata": {},
   "outputs": [],
   "source": [
    "# these can also be constructed using a list index method\n",
    "plate_two_24 = ['P2_qty_sample',\n",
    "                'Plate_two_24h_image',\n",
    "                'P2_24h_big_blue',\n",
    "                'P2_24h_med_blue',\n",
    "                'P2_24h_green',\n",
    "                'P2_24h_turq',\n",
    "                'P2_24h_pink',\n",
    "                'P2_24h_other',\n",
    "                'Comments_p2_24h']\n",
    "\n",
    "plate_two_48 = ['P2_qty_sample',\n",
    "                'Plate_two_48h_image',\n",
    "                'P2_48h_big_blue',\n",
    "                'P2_48h_med_blue',             \n",
    "                'P2_48h_green',\n",
    "                'P2_48h_turq',\n",
    "                'P2_48h_pink',\n",
    "                'P2_48h_other',\n",
    "                'Comments_p2_48h']"
   ]
  },
  {
   "cell_type": "code",
   "execution_count": 16,
   "metadata": {},
   "outputs": [],
   "source": [
    "plate_three_24 = ['P3_qty_sample',\n",
    "                  'Plate_three_24h_image',\n",
    "                  'P3_24h_big_blue',\n",
    "                  'P3_24h_med_blue',\n",
    "                  'P3_24h_green',\n",
    "                  'P3_24h_turq',\n",
    "                  'P3_24h_pink',\n",
    "                  'P3_24h_other',\n",
    "                  'Comments_p3_24h',]\n",
    "               \n",
    "plate_three_48 = ['P3_qty_sample',\n",
    "                  'Plate_three_48h_image',\n",
    "                  'P3_48h_big_blue',\n",
    "                  'P3_48h_med_blue',\n",
    "                  'P3_48h_green',\n",
    "                  'P3_48h_turq',\n",
    "                  'P3_48h_pink',\n",
    "                  'P3_48h_other',\n",
    "                  'Comments_p3_48h']"
   ]
  },
  {
   "cell_type": "code",
   "execution_count": 17,
   "metadata": {},
   "outputs": [],
   "source": [
    "plate_one_fluo = ['Image_24h_fluo_plate_one',\n",
    "                  'P1_fluo_halo_colonies',\n",
    "                  'P1_fluo_other']\n",
    "plate_two_fluo = ['Image_24h_fluo_plate_two',\n",
    "                  'P2_fluo_halo_colonies',\n",
    "                  'P2_fluo_other']\n",
    "plate_three_fluo = ['Image_24h_fluo_plate_three',\n",
    "                    'p3_fluo_halo_colonies',\n",
    "                    'p3_fluo_other']"
   ]
  },
  {
   "cell_type": "code",
   "execution_count": 18,
   "metadata": {},
   "outputs": [
    {
     "data": {
      "text/plain": [
       "array([3, 6, 2, 1, 5, 0, 6, 8])"
      ]
     },
     "execution_count": 18,
     "metadata": {},
     "output_type": "execute_result"
    }
   ],
   "source": [
    "# test the list indexes:\n",
    "d = np.random.randint(9, size=8)\n",
    "d"
   ]
  },
  {
   "cell_type": "code",
   "execution_count": 19,
   "metadata": {},
   "outputs": [
    {
     "data": {
      "text/plain": [
       "0"
      ]
     },
     "execution_count": 19,
     "metadata": {},
     "output_type": "execute_result"
    }
   ],
   "source": [
    "# or run this at each loop\n",
    "np.random.choice(9)"
   ]
  },
  {
   "cell_type": "code",
   "execution_count": 20,
   "metadata": {},
   "outputs": [],
   "source": [
    "# this data can be seen as a whole (the sum of all the xis or seperated by incubation time)\n",
    "plate_groups = [plate_one_24, plate_two_24, plate_three_24, plate_one_48, plate_two_48, plate_three_48]\n",
    "plate_24 = plate_groups[:3]\n",
    "plate_48 = plate_groups[3:]"
   ]
  },
  {
   "cell_type": "code",
   "execution_count": 21,
   "metadata": {},
   "outputs": [
    {
     "name": "stdout",
     "output_type": "stream",
     "text": [
      "P1_24h_pink\n",
      "P2_24h_pink\n",
      "P3_24h_pink\n",
      "P1_48h_pink\n",
      "P2_48h_pink\n",
      "P3_48h_pink\n",
      "loop\n"
     ]
    }
   ],
   "source": [
    "# to check this i will grab a random number and sue it to\n",
    "# index the lists created from the columns\n",
    "# these will be used as lables later to call data out\n",
    "# the out pt should be the same for all values x[i] where i = np.random.choice(9)\n",
    "\n",
    "def check_indexes(a):\n",
    "    n = 0\n",
    "    i = np.random.choice(9)\n",
    "    if n <= 4:        \n",
    "        for x in a:\n",
    "            print(x[i])\n",
    "        print('loop')\n",
    "        n += 1\n",
    "        \n",
    "check_indexes(plate_groups)\n",
    "# okay this function can run forever and i get the same output from each group         \n",
    "        "
   ]
  },
  {
   "cell_type": "code",
   "execution_count": 22,
   "metadata": {},
   "outputs": [
    {
     "data": {
      "text/plain": [
       "[Timestamp('2017-06-12 00:00:00'),\n",
       " Timestamp('2017-06-19 00:00:00'),\n",
       " Timestamp('2017-06-26 00:00:00'),\n",
       " Timestamp('2017-07-03 00:00:00'),\n",
       " Timestamp('2017-07-10 00:00:00'),\n",
       " Timestamp('2017-07-17 00:00:00'),\n",
       " Timestamp('2017-07-24 00:00:00'),\n",
       " Timestamp('2017-07-31 00:00:00')]"
      ]
     },
     "execution_count": 22,
     "metadata": {},
     "output_type": "execute_result"
    }
   ],
   "source": [
    "# group the dates by week number\n",
    "# first get a sorted list by date\n",
    "# any way you do it there is a transformation to happen\n",
    "b = a['Date'].copy()\n",
    "b = pd.to_datetime(b, format='%Y/%m/%d')\n",
    "b = list(b)\n",
    "b.sort()\n",
    "b = list(set(b))\n",
    "b.sort()\n",
    "b\n",
    "# the time stamp works here but it is a hassel in js\n",
    "# the value will be kept but I will also asign a week no"
   ]
  },
  {
   "cell_type": "code",
   "execution_count": 23,
   "metadata": {},
   "outputs": [
    {
     "name": "stdout",
     "output_type": "stream",
     "text": [
      "{'Week one': Timestamp('2017-06-12 00:00:00'), 'Week two': Timestamp('2017-06-19 00:00:00'), 'Week three': Timestamp('2017-06-26 00:00:00'), 'Week four': Timestamp('2017-07-03 00:00:00'), 'Week five': Timestamp('2017-07-10 00:00:00'), 'Week six': Timestamp('2017-07-17 00:00:00'), 'Week seven': Timestamp('2017-07-24 00:00:00'), 'Week eight': Timestamp('2017-07-31 00:00:00')} [Timestamp('2017-06-12 00:00:00'), Timestamp('2017-06-19 00:00:00'), Timestamp('2017-06-26 00:00:00'), Timestamp('2017-07-03 00:00:00'), Timestamp('2017-07-10 00:00:00'), Timestamp('2017-07-17 00:00:00'), Timestamp('2017-07-24 00:00:00'), Timestamp('2017-07-31 00:00:00')]\n"
     ]
    }
   ],
   "source": [
    "weeks_l = ['Week one', 'Week two', 'Week three', 'Week four', 'Week five', 'Week six', 'Week seven', 'Week eight']\n",
    "weeks = dict(zip(weeks_l, b))\n",
    "print(weeks, b)"
   ]
  },
  {
   "cell_type": "code",
   "execution_count": 24,
   "metadata": {},
   "outputs": [],
   "source": [
    "# makesure the orignal df is up to speed\n",
    "a['Date'] = pd.to_datetime(a['Date'],format='%Y/%m/%d' )"
   ]
  },
  {
   "cell_type": "code",
   "execution_count": 25,
   "metadata": {},
   "outputs": [
    {
     "data": {
      "text/plain": [
       "['SVT',\n",
       " 'VNX',\n",
       " 'Echandens',\n",
       " 'Nernier',\n",
       " 'MRD',\n",
       " 'Hackuarium tap',\n",
       " 'Hackuarium toilet']"
      ]
     },
     "execution_count": 25,
     "metadata": {},
     "output_type": "execute_result"
    }
   ],
   "source": [
    "# create a list of place names\n",
    "places = list(a['Location'].copy())\n",
    "places = set(places)\n",
    "place = list(places)\n",
    "place"
   ]
  },
  {
   "cell_type": "code",
   "execution_count": 26,
   "metadata": {},
   "outputs": [
    {
     "data": {
      "text/plain": [
       "'easy_gel'"
      ]
     },
     "execution_count": 26,
     "metadata": {},
     "output_type": "execute_result"
    }
   ],
   "source": [
    "mediums = list(a['medium'].unique().copy())\n",
    "mediums[0]"
   ]
  },
  {
   "cell_type": "code",
   "execution_count": 27,
   "metadata": {},
   "outputs": [],
   "source": [
    "c = a[(a.Location == 'SVT') & (a.medium == 'unil_kitchen')]"
   ]
  },
  {
   "cell_type": "code",
   "execution_count": 28,
   "metadata": {},
   "outputs": [
    {
     "data": {
      "text/html": [
       "<div>\n",
       "<style scoped>\n",
       "    .dataframe tbody tr th:only-of-type {\n",
       "        vertical-align: middle;\n",
       "    }\n",
       "\n",
       "    .dataframe tbody tr th {\n",
       "        vertical-align: top;\n",
       "    }\n",
       "\n",
       "    .dataframe thead th {\n",
       "        text-align: right;\n",
       "    }\n",
       "</style>\n",
       "<table border=\"1\" class=\"dataframe\">\n",
       "  <thead>\n",
       "    <tr style=\"text-align: right;\">\n",
       "      <th></th>\n",
       "      <th>Date</th>\n",
       "      <th>Location</th>\n",
       "      <th>medium</th>\n",
       "      <th>Samples</th>\n",
       "      <th>Sampling_Notes</th>\n",
       "      <th>Water_temp</th>\n",
       "      <th>Plating_notes</th>\n",
       "      <th>Temp_incubation</th>\n",
       "      <th>P1_qty_sample</th>\n",
       "      <th>Image_24h_fluo_plate_one</th>\n",
       "      <th>...</th>\n",
       "      <th>P3_48h_big_blue</th>\n",
       "      <th>P3_48h_med_blue</th>\n",
       "      <th>P3_48h_green</th>\n",
       "      <th>P3_48h_turq</th>\n",
       "      <th>P3_48h_pink</th>\n",
       "      <th>P3_48h_other</th>\n",
       "      <th>Comments_p3_48h</th>\n",
       "      <th>latitude</th>\n",
       "      <th>longitude</th>\n",
       "      <th>Location_Image</th>\n",
       "    </tr>\n",
       "  </thead>\n",
       "  <tbody>\n",
       "    <tr>\n",
       "      <th>43</th>\n",
       "      <td>2017-07-24</td>\n",
       "      <td>SVT</td>\n",
       "      <td>unil_kitchen</td>\n",
       "      <td>2</td>\n",
       "      <td>No comments</td>\n",
       "      <td>19</td>\n",
       "      <td>No comments</td>\n",
       "      <td>37</td>\n",
       "      <td>0.5</td>\n",
       "      <td>SVT1-13_19_6.JPG</td>\n",
       "      <td>...</td>\n",
       "      <td>0.0</td>\n",
       "      <td>0.0</td>\n",
       "      <td>0.0</td>\n",
       "      <td>0.0</td>\n",
       "      <td>0.0</td>\n",
       "      <td>0.0</td>\n",
       "      <td>No comments</td>\n",
       "      <td>46.438207</td>\n",
       "      <td>6.905157</td>\n",
       "      <td>none</td>\n",
       "    </tr>\n",
       "    <tr>\n",
       "      <th>57</th>\n",
       "      <td>2017-07-03</td>\n",
       "      <td>SVT</td>\n",
       "      <td>unil_kitchen</td>\n",
       "      <td>1</td>\n",
       "      <td>added oct</td>\n",
       "      <td>22</td>\n",
       "      <td>No comments</td>\n",
       "      <td>37</td>\n",
       "      <td>0.5</td>\n",
       "      <td>none</td>\n",
       "      <td>...</td>\n",
       "      <td>NaN</td>\n",
       "      <td>NaN</td>\n",
       "      <td>NaN</td>\n",
       "      <td>NaN</td>\n",
       "      <td>NaN</td>\n",
       "      <td>NaN</td>\n",
       "      <td>NaN</td>\n",
       "      <td>NaN</td>\n",
       "      <td>NaN</td>\n",
       "      <td>NaN</td>\n",
       "    </tr>\n",
       "  </tbody>\n",
       "</table>\n",
       "<p>2 rows × 71 columns</p>\n",
       "</div>"
      ],
      "text/plain": [
       "         Date Location        medium  Samples Sampling_Notes  Water_temp  \\\n",
       "43 2017-07-24      SVT  unil_kitchen        2    No comments          19   \n",
       "57 2017-07-03      SVT  unil_kitchen        1      added oct          22   \n",
       "\n",
       "   Plating_notes  Temp_incubation  P1_qty_sample Image_24h_fluo_plate_one  \\\n",
       "43   No comments               37            0.5         SVT1-13_19_6.JPG   \n",
       "57   No comments               37            0.5                     none   \n",
       "\n",
       "        ...        P3_48h_big_blue  P3_48h_med_blue P3_48h_green  P3_48h_turq  \\\n",
       "43      ...                    0.0              0.0          0.0          0.0   \n",
       "57      ...                    NaN              NaN          NaN          NaN   \n",
       "\n",
       "    P3_48h_pink  P3_48h_other  Comments_p3_48h   latitude  longitude  \\\n",
       "43          0.0           0.0      No comments  46.438207   6.905157   \n",
       "57          NaN           NaN              NaN        NaN        NaN   \n",
       "\n",
       "   Location_Image  \n",
       "43           none  \n",
       "57            NaN  \n",
       "\n",
       "[2 rows x 71 columns]"
      ]
     },
     "execution_count": 28,
     "metadata": {},
     "output_type": "execute_result"
    }
   ],
   "source": [
    "c"
   ]
  },
  {
   "cell_type": "code",
   "execution_count": 29,
   "metadata": {},
   "outputs": [],
   "source": [
    "place = ['Echandens',\n",
    "         'SVT',\n",
    "         'VNX',\n",
    "         'MRD',\n",
    "         'Nernier',\n",
    "         'Hackuarium tap',\n",
    "         'Hackuarium toilet']\n",
    "\n",
    "# so now I should get a table of values\n",
    "# corresponding to plate number and color for one date, and one location\n",
    "# check to see what happens if use 1 of each list to slice the data-frame\n",
    "c = a[(a.Location == place[4]) & (a.Date == weeks['Week one'])][[plate_one_24[2], plate_two_24[2], plate_three_24[2]]]"
   ]
  },
  {
   "cell_type": "code",
   "execution_count": 30,
   "metadata": {},
   "outputs": [
    {
     "data": {
      "text/html": [
       "<div>\n",
       "<style scoped>\n",
       "    .dataframe tbody tr th:only-of-type {\n",
       "        vertical-align: middle;\n",
       "    }\n",
       "\n",
       "    .dataframe tbody tr th {\n",
       "        vertical-align: top;\n",
       "    }\n",
       "\n",
       "    .dataframe thead th {\n",
       "        text-align: right;\n",
       "    }\n",
       "</style>\n",
       "<table border=\"1\" class=\"dataframe\">\n",
       "  <thead>\n",
       "    <tr style=\"text-align: right;\">\n",
       "      <th></th>\n",
       "      <th>P1_24h_big_blue</th>\n",
       "      <th>P2_24h_big_blue</th>\n",
       "      <th>P3_24h_big_blue</th>\n",
       "    </tr>\n",
       "  </thead>\n",
       "  <tbody>\n",
       "    <tr>\n",
       "      <th>4</th>\n",
       "      <td>1.0</td>\n",
       "      <td>0.0</td>\n",
       "      <td>0.0</td>\n",
       "    </tr>\n",
       "  </tbody>\n",
       "</table>\n",
       "</div>"
      ],
      "text/plain": [
       "   P1_24h_big_blue  P2_24h_big_blue  P3_24h_big_blue\n",
       "4              1.0              0.0              0.0"
      ]
     },
     "execution_count": 30,
     "metadata": {},
     "output_type": "execute_result"
    }
   ],
   "source": [
    "c"
   ]
  },
  {
   "cell_type": "code",
   "execution_count": 31,
   "metadata": {},
   "outputs": [
    {
     "name": "stdout",
     "output_type": "stream",
     "text": [
      "<class 'pandas.core.frame.DataFrame'>\n"
     ]
    }
   ],
   "source": [
    "print(type(c))\n",
    "# that output looks good\n",
    "# create a list index for the plate counts\n",
    "bugs = [2, 3, 4, 5, 6, 7]\n",
    "# this is temporary and will be replaced with a list derived from the column names\n",
    "# this information down here is good to know"
   ]
  },
  {
   "cell_type": "code",
   "execution_count": 32,
   "metadata": {},
   "outputs": [
    {
     "name": "stdout",
     "output_type": "stream",
     "text": [
      "1.0\n",
      "P1_24h_big_blue    1.0\n",
      "P2_24h_big_blue    0.0\n",
      "P3_24h_big_blue    0.0\n",
      "dtype: float64\n"
     ]
    }
   ],
   "source": [
    "# there is already some pandas functionality here\n",
    "a_sum = c.sum()\n",
    "b_sum = sum(a_sum)\n",
    "c_sum = sum(c.sum())\n",
    "\n",
    "print(c_sum)\n",
    "print(a_sum)"
   ]
  },
  {
   "cell_type": "code",
   "execution_count": 33,
   "metadata": {},
   "outputs": [],
   "source": [
    "plate_48 = [plate_one_48, plate_two_48, plate_three_48]"
   ]
  },
  {
   "cell_type": "code",
   "execution_count": 34,
   "metadata": {},
   "outputs": [],
   "source": [
    "cc = [plate_24, plate_48]\n",
    "big_blue, med_blue, green, turq, pink, other = [], [], [], [], [], []\n",
    "for x in cc:\n",
    "    for plate in x:        \n",
    "        big_blue.append(plate[2])\n",
    "        med_blue.append(plate[3])\n",
    "        green.append(plate[4])\n",
    "        turq.append(plate[5])\n",
    "        pink.append(plate[6])\n",
    "        other.append(plate[7])\n",
    "#big_blue         "
   ]
  },
  {
   "cell_type": "code",
   "execution_count": 35,
   "metadata": {},
   "outputs": [],
   "source": [
    "#b is our list of dates\n",
    "dates = b\n",
    "all_colors = [big_blue, med_blue, green, turq, pink, other]"
   ]
  },
  {
   "cell_type": "code",
   "execution_count": 36,
   "metadata": {},
   "outputs": [],
   "source": [
    "one_s = [0,3]\n",
    "two_s = [0,1,3,4]\n",
    "second_s = [1,4]\n",
    "third_s = [2, 5]"
   ]
  },
  {
   "cell_type": "code",
   "execution_count": 37,
   "metadata": {},
   "outputs": [],
   "source": [
    "def make_samples(x,y):\n",
    "    d = []\n",
    "    for i, a in enumerate(x):\n",
    "        color = []\n",
    "        for n, b in enumerate(y):\n",
    "            c = x[i][b]\n",
    "            color.append(c)\n",
    "        d.append(color)\n",
    "    return d\n",
    "one_sample = make_samples(all_colors, one_s)\n",
    "two_sample = make_samples(all_colors, two_s)\n",
    "second_sample = make_samples(all_colors, second_s)\n",
    "third_sample = make_samples(all_colors, third_s)\n",
    "# all_colors is for three samples\n",
    "#samp_one   "
   ]
  },
  {
   "cell_type": "code",
   "execution_count": null,
   "metadata": {},
   "outputs": [],
   "source": []
  },
  {
   "cell_type": "code",
   "execution_count": 38,
   "metadata": {},
   "outputs": [],
   "source": [
    "# weeks has the key type 'Week one', 'Week two'....\n",
    "# Will need to call week be by date\n",
    "# so weeks 2 has the key type Timestamp('2017-06-12 00:00:00')\n",
    "weeks_2 = dict(zip(b, weeks_l))"
   ]
  },
  {
   "cell_type": "code",
   "execution_count": 39,
   "metadata": {},
   "outputs": [],
   "source": [
    "# will go ahead and make dictionaries for the variables\n",
    "# easier to use than remembering abbreviations\n",
    "#mediums\n",
    "med_keys = ['ez', 'card', 'unil', 'lev']\n",
    "medium = dict(zip(med_keys, mediums))\n",
    "place_keys = ['ech', 'svt', 'vnx', 'mrd', 'ner', 'tap', 'toilet']\n",
    "places = dict(zip(place_keys, place))"
   ]
  },
  {
   "cell_type": "code",
   "execution_count": 40,
   "metadata": {},
   "outputs": [
    {
     "data": {
      "text/html": [
       "<div>\n",
       "<style scoped>\n",
       "    .dataframe tbody tr th:only-of-type {\n",
       "        vertical-align: middle;\n",
       "    }\n",
       "\n",
       "    .dataframe tbody tr th {\n",
       "        vertical-align: top;\n",
       "    }\n",
       "\n",
       "    .dataframe thead th {\n",
       "        text-align: right;\n",
       "    }\n",
       "</style>\n",
       "<table border=\"1\" class=\"dataframe\">\n",
       "  <thead>\n",
       "    <tr style=\"text-align: right;\">\n",
       "      <th></th>\n",
       "      <th>P1_24h_other</th>\n",
       "      <th>P2_24h_other</th>\n",
       "      <th>P3_24h_other</th>\n",
       "      <th>P1_48h_other</th>\n",
       "      <th>P2_48h_other</th>\n",
       "      <th>P3_48h_other</th>\n",
       "    </tr>\n",
       "  </thead>\n",
       "  <tbody>\n",
       "    <tr>\n",
       "      <th>61</th>\n",
       "      <td>0.0</td>\n",
       "      <td>0.0</td>\n",
       "      <td>0.0</td>\n",
       "      <td>0.0</td>\n",
       "      <td>0.0</td>\n",
       "      <td>0.0</td>\n",
       "    </tr>\n",
       "  </tbody>\n",
       "</table>\n",
       "</div>"
      ],
      "text/plain": [
       "    P1_24h_other  P2_24h_other  P3_24h_other  P1_48h_other  P2_48h_other  \\\n",
       "61           0.0           0.0           0.0           0.0           0.0   \n",
       "\n",
       "    P3_48h_other  \n",
       "61           0.0  "
      ]
     },
     "execution_count": 40,
     "metadata": {},
     "output_type": "execute_result"
    }
   ],
   "source": [
    "# so should be able to call the row week two, for one sample(plate one), any place, any plate number\n",
    "a[(a.Date == weeks['Week five']) & (a.Location == places['vnx']) & (a.medium == medium['card'])][all_colors[5]]"
   ]
  },
  {
   "cell_type": "code",
   "execution_count": 41,
   "metadata": {},
   "outputs": [],
   "source": [
    "#all_colors"
   ]
  },
  {
   "cell_type": "code",
   "execution_count": 57,
   "metadata": {},
   "outputs": [
    {
     "name": "stdout",
     "output_type": "stream",
     "text": [
      "Echandens\n",
      "[0.0, 0.0]\n",
      "[0.0, 0.0]\n",
      "0.0 Week three ['P1_24h_big_blue', 'P1_48h_big_blue']\n",
      "0.0\n",
      "0.0 Week three\n",
      "1.0 Week three\n",
      "0.5\n",
      "200.0\n",
      "loop\n",
      "[0.0, 0.0]\n",
      "[0.0, 0.0]\n",
      "0.0 Week three ['P1_24h_med_blue', 'P1_48h_med_blue']\n",
      "0.0\n",
      "0.0 Week three\n",
      "1.0 Week three\n",
      "0.5\n",
      "200.0\n",
      "loop\n",
      "[0.0, 0.0]\n",
      "[0.0, 0.0]\n",
      "0.0 Week three ['P1_24h_green', 'P1_48h_green']\n",
      "0.0\n",
      "0.0 Week three\n",
      "1.0 Week three\n",
      "0.5\n",
      "200.0\n",
      "loop\n",
      "[0.0, 0.0]\n",
      "[0.0, 0.0]\n",
      "0.0 Week three ['P1_24h_turq', 'P1_48h_turq']\n",
      "0.0\n",
      "0.0 Week three\n",
      "1.0 Week three\n",
      "0.5\n",
      "200.0\n",
      "loop\n",
      "[0.0, 0.0]\n",
      "[0.0, 0.0]\n",
      "0.0 Week three ['P1_24h_pink', 'P1_48h_pink']\n",
      "0.0\n",
      "0.0 Week three\n",
      "1.0 Week three\n",
      "0.5\n",
      "200.0\n",
      "loop\n",
      "[0.0, 0.0]\n",
      "[0.0, 0.0]\n",
      "0.0 Week three ['P1_24h_other', 'P1_48h_other']\n",
      "0.0\n",
      "0.0 Week three\n",
      "1.0 Week three\n",
      "0.5\n",
      "200.0\n",
      "loop\n",
      "2017-06-26 00:00:00 [200.0, 200.0, 200.0, 200.0, 200.0, 200.0]\n",
      "[0.0, 0.0]\n",
      "[0.0, 0.0]\n",
      "0.0 Week seven ['P1_24h_big_blue', 'P1_48h_big_blue']\n",
      "0.0\n",
      "0.0 Week seven\n",
      "1.0 Week seven\n",
      "0.5\n",
      "200.0\n",
      "loop\n",
      "[0.0, 0.0]\n",
      "[0.0, 0.0]\n",
      "0.0 Week seven ['P1_24h_med_blue', 'P1_48h_med_blue']\n",
      "0.0\n",
      "0.0 Week seven\n",
      "1.0 Week seven\n",
      "0.5\n",
      "200.0\n",
      "loop\n",
      "[0.0, 0.0]\n",
      "[0.0, 0.0]\n",
      "0.0 Week seven ['P1_24h_green', 'P1_48h_green']\n",
      "0.0\n",
      "0.0 Week seven\n",
      "1.0 Week seven\n",
      "0.5\n",
      "200.0\n",
      "loop\n",
      "[0.0, 0.0]\n",
      "[0.0, 0.0]\n",
      "0.0 Week seven ['P1_24h_turq', 'P1_48h_turq']\n",
      "0.0\n",
      "0.0 Week seven\n",
      "1.0 Week seven\n",
      "0.5\n",
      "200.0\n",
      "loop\n",
      "[0.0, 0.0]\n",
      "[0.0, 0.0]\n",
      "0.0 Week seven ['P1_24h_pink', 'P1_48h_pink']\n",
      "0.0\n",
      "0.0 Week seven\n",
      "1.0 Week seven\n",
      "0.5\n",
      "200.0\n",
      "loop\n",
      "[0.0, 0.0]\n",
      "[0.0, 0.0]\n",
      "0.0 Week seven ['P1_24h_other', 'P1_48h_other']\n",
      "0.0\n",
      "0.0 Week seven\n",
      "1.0 Week seven\n",
      "0.5\n",
      "200.0\n",
      "loop\n",
      "2017-07-24 00:00:00 [200.0, 200.0, 200.0, 200.0, 200.0, 200.0]\n",
      "SVT\n",
      "[0.0, 0.0]\n",
      "[0.0, 0.0]\n",
      "0.0 Week four ['P1_24h_big_blue', 'P1_48h_big_blue']\n",
      "0.0\n",
      "0.0 Week four\n",
      "1.0 Week four\n",
      "0.5\n",
      "200.0\n",
      "loop\n",
      "[200.0, 0.0]\n",
      "[5.298317366548036, 0.0]\n",
      "2.649158683274018 Week four ['P1_24h_med_blue', 'P1_48h_med_blue']\n",
      "2.649158683274018\n",
      "7.017621351992874 Week four\n",
      "1116.13 Week four\n",
      "0.5\n",
      "223226.00000000003\n",
      "loop\n",
      "[0.0, 0.0]\n",
      "[0.0, 0.0]\n",
      "0.0 Week four ['P1_24h_green', 'P1_48h_green']\n",
      "0.0\n",
      "0.0 Week four\n",
      "1.0 Week four\n",
      "0.5\n",
      "200.0\n",
      "loop\n",
      "[0.0, 0.0]\n",
      "[0.0, 0.0]\n",
      "0.0 Week four ['P1_24h_turq', 'P1_48h_turq']\n",
      "0.0\n",
      "0.0 Week four\n",
      "1.0 Week four\n",
      "0.5\n",
      "200.0\n",
      "loop\n",
      "[0.0, 0.0]\n",
      "[0.0, 0.0]\n",
      "0.0 Week four ['P1_24h_pink', 'P1_48h_pink']\n",
      "0.0\n",
      "0.0 Week four\n",
      "1.0 Week four\n",
      "0.5\n",
      "200.0\n",
      "loop\n",
      "[0.0, 0.0]\n",
      "[0.0, 0.0]\n",
      "0.0 Week four ['P1_24h_other', 'P1_48h_other']\n",
      "0.0\n",
      "0.0 Week four\n",
      "1.0 Week four\n",
      "0.5\n",
      "200.0\n",
      "loop\n",
      "2017-07-03 00:00:00 [200.0, 223226.00000000003, 200.0, 200.0, 200.0, 200.0]\n",
      "[0.0, 0.0, 0.0, 0.0]\n",
      "[0.0, 0.0, 0.0, 0.0]\n",
      "0.0 Week seven ['P1_24h_big_blue', 'P2_24h_big_blue', 'P1_48h_big_blue', 'P2_48h_big_blue']\n",
      "0.0\n",
      "0.0 Week seven\n",
      "1.0 Week seven\n",
      "0.5\n",
      "200.0\n",
      "loop\n",
      "[0.0, 0.0, 0.0, 0.0]\n",
      "[0.0, 0.0, 0.0, 0.0]\n",
      "0.0 Week seven ['P1_24h_med_blue', 'P2_24h_med_blue', 'P1_48h_med_blue', 'P2_48h_med_blue']\n",
      "0.0\n",
      "0.0 Week seven\n",
      "1.0 Week seven\n",
      "0.5\n",
      "200.0\n",
      "loop\n",
      "[0.0, 0.0, 0.0, 0.0]\n",
      "[0.0, 0.0, 0.0, 0.0]\n",
      "0.0 Week seven ['P1_24h_green', 'P2_24h_green', 'P1_48h_green', 'P2_48h_green']\n",
      "0.0\n",
      "0.0 Week seven\n",
      "1.0 Week seven\n",
      "0.5\n",
      "200.0\n",
      "loop\n",
      "[0.0, 0.0, 0.0, 0.0]\n",
      "[0.0, 0.0, 0.0, 0.0]\n",
      "0.0 Week seven ['P1_24h_turq', 'P2_24h_turq', 'P1_48h_turq', 'P2_48h_turq']\n",
      "0.0\n",
      "0.0 Week seven\n",
      "1.0 Week seven\n",
      "0.5\n",
      "200.0\n",
      "loop\n",
      "[0.0, 0.0, 0.0, 0.0]\n",
      "[0.0, 0.0, 0.0, 0.0]\n",
      "0.0 Week seven ['P1_24h_pink', 'P2_24h_pink', 'P1_48h_pink', 'P2_48h_pink']\n",
      "0.0\n",
      "0.0 Week seven\n",
      "1.0 Week seven\n",
      "0.5\n",
      "200.0\n",
      "loop\n",
      "[17.0, 16.0, 71.0, 28.0]\n",
      "[2.833213344056216, 2.772588722239781, 4.2626798770413155, 3.332204510175204]\n",
      "3.300171613378129 Week seven ['P1_24h_other', 'P2_24h_other', 'P1_48h_other', 'P2_48h_other']\n",
      "0.5966242528608664\n",
      "4.284005006345698 Week seven\n",
      "72.53 Week seven\n",
      "0.5\n",
      "14506.0\n",
      "loop\n",
      "2017-07-24 00:00:00 [200.0, 200.0, 200.0, 200.0, 200.0, 14506.0]\n",
      "VNX\n",
      "[0.0, 0.0]\n",
      "[0.0, 0.0]\n",
      "0.0 Week seven ['P1_24h_big_blue', 'P1_48h_big_blue']\n",
      "0.0\n",
      "0.0 Week seven\n",
      "1.0 Week seven\n",
      "0.5\n",
      "200.0\n",
      "loop\n",
      "[0.0, 0.0]\n",
      "[0.0, 0.0]\n",
      "0.0 Week seven ['P1_24h_med_blue', 'P1_48h_med_blue']\n",
      "0.0\n",
      "0.0 Week seven\n",
      "1.0 Week seven\n",
      "0.5\n",
      "200.0\n",
      "loop\n",
      "[0.0, 0.0]\n",
      "[0.0, 0.0]\n",
      "0.0 Week seven ['P1_24h_green', 'P1_48h_green']\n",
      "0.0\n",
      "0.0 Week seven\n",
      "1.0 Week seven\n",
      "0.5\n",
      "200.0\n",
      "loop\n",
      "[0.0, 0.0]\n",
      "[0.0, 0.0]\n",
      "0.0 Week seven ['P1_24h_turq', 'P1_48h_turq']\n",
      "0.0\n",
      "0.0 Week seven\n",
      "1.0 Week seven\n",
      "0.5\n",
      "200.0\n",
      "loop\n",
      "[0.0, 0.0]\n",
      "[0.0, 0.0]\n",
      "0.0 Week seven ['P1_24h_pink', 'P1_48h_pink']\n",
      "0.0\n",
      "0.0 Week seven\n",
      "1.0 Week seven\n",
      "0.5\n",
      "200.0\n",
      "loop\n",
      "[38.0, 80.0]\n",
      "[3.6375861597263857, 4.382026634673881]\n",
      "4.009806397200133 Week seven ['P1_24h_other', 'P1_48h_other']\n",
      "0.3722202374737478\n",
      "4.623597568794343 Week seven\n",
      "101.86 Week seven\n",
      "0.5\n",
      "20372.0\n",
      "loop\n",
      "2017-07-24 00:00:00 [200.0, 200.0, 200.0, 200.0, 200.0, 20372.0]\n",
      "MRD\n",
      "[0.0, 0.0]\n",
      "[0.0, 0.0]\n",
      "0.0 Week four ['P1_24h_big_blue', 'P1_48h_big_blue']\n",
      "0.0\n",
      "0.0 Week four\n",
      "1.0 Week four\n",
      "0.5\n",
      "200.0\n",
      "loop\n",
      "[200.0, 0.0]\n",
      "[5.298317366548036, 0.0]\n",
      "2.649158683274018 Week four ['P1_24h_med_blue', 'P1_48h_med_blue']\n",
      "2.649158683274018\n",
      "7.017621351992874 Week four\n",
      "1116.13 Week four\n",
      "0.5\n",
      "223226.00000000003\n",
      "loop\n",
      "[0.0, 0.0]\n",
      "[0.0, 0.0]\n",
      "0.0 Week four ['P1_24h_green', 'P1_48h_green']\n",
      "0.0\n",
      "0.0 Week four\n",
      "1.0 Week four\n",
      "0.5\n",
      "200.0\n",
      "loop\n",
      "[0.0, 0.0]\n",
      "[0.0, 0.0]\n",
      "0.0 Week four ['P1_24h_turq', 'P1_48h_turq']\n",
      "0.0\n",
      "0.0 Week four\n",
      "1.0 Week four\n",
      "0.5\n",
      "200.0\n",
      "loop\n",
      "[0.0, 0.0]\n",
      "[0.0, 0.0]\n",
      "0.0 Week four ['P1_24h_pink', 'P1_48h_pink']\n",
      "0.0\n",
      "0.0 Week four\n",
      "1.0 Week four\n",
      "0.5\n",
      "200.0\n",
      "loop\n",
      "[0.0, 0.0]\n",
      "[0.0, 0.0]\n",
      "0.0 Week four ['P1_24h_other', 'P1_48h_other']\n",
      "0.0\n",
      "0.0 Week four\n",
      "1.0 Week four\n",
      "0.5\n",
      "200.0\n",
      "loop\n",
      "2017-07-03 00:00:00 [200.0, 223226.00000000003, 200.0, 200.0, 200.0, 200.0]\n"
     ]
    }
   ],
   "source": [
    "import re\n",
    "p = re.compile('tmtc', re.IGNORECASE)\n",
    "def weekly_results(df, week, places, meds):\n",
    "    all_results2 = []\n",
    "    for n, place in enumerate(places):\n",
    "        print(place)\n",
    "        chart_it2 = {place:[]}\n",
    "        the_results2 = []\n",
    "        for a, b in enumerate(week):\n",
    "            e = df[(df.Date == weeks[week[a]]) & (df.Location == place) & (df.medium == medium[meds])]\n",
    "            if e['Samples'].values.size == 0:\n",
    "                no_t = medium[meds] + ' not used'\n",
    "                no_test = {'no_test': no_t}\n",
    "                \n",
    "                the_results2.append([{weeks_2[weeks[b]]:no_test}]) \n",
    "                \n",
    "            elif e['Samples'].values[0] == 1:\n",
    "                samples = one_sample\n",
    "               \n",
    "                \n",
    "            elif e['Samples'].values[0] == 2:\n",
    "                samples = two_sample\n",
    "                            \n",
    "            elif e['Samples'].values[0] == 3:\n",
    "                \n",
    "                samples = all_colors\n",
    "            if e['Samples'].values.size > 0:\n",
    "                comments = list(e['Comments_p1_24h'])\n",
    "                if len(comments) ==1:\n",
    "                    if p.search(comments[0]):\n",
    "                        bdl={'TMTC':''}\n",
    "                    else:\n",
    "                        bdl={'BDL':''}\n",
    "                day_results2 = []\n",
    "                string = []\n",
    "                for c, d in enumerate(samples):\n",
    "                    f = e[d]\n",
    "                    if sum(f.sum()) == 0:\n",
    "                        for s in d:\n",
    "                            if d[0][7:] not in string:\n",
    "                                string.append(d[0][7:])\n",
    "                    bdl[list(bdl.keys())[0]] = ', '.join(string)\n",
    "                    g = list(e[d].sum())\n",
    "                    print(g)\n",
    "                    g_l = []\n",
    "                    for h in g:\n",
    "                        if h == 0:\n",
    "                            g_l.append(h)\n",
    "                        if h > 0:\n",
    "                            g_l.append(np.log(h))\n",
    "                    print(g_l)\n",
    "                    g_m = np.mean(g_l)\n",
    "                    print(g_m, weeks_2[weeks[b]],d)\n",
    "                    g_s = np.std(g_l)\n",
    "                    print(g_s)\n",
    "                    f_95 = g_m+ g_s*1.649\n",
    "                    print(f_95, weeks_2[weeks[b]])\n",
    "                    f_95 = np.exp(f_95).round(2)\n",
    "                    print(f_95, weeks_2[weeks[b]])\n",
    "                    print(e[plate_one[0]].item())\n",
    "                    if e[plate_one[0]].item() == 0.5:\n",
    "                        f_95 = f_95 * 200\n",
    "                    elif e[plate_one[0]].item() == 1:\n",
    "                        f_95 = f_95 * 100\n",
    "                    elif e[plate_one[0]].item() == 4:\n",
    "                        f_95 = f_95 * 25\n",
    "                    day_results2.append(f_95)\n",
    "                    print(f_95)\n",
    "                    print('loop')\n",
    "                print(weeks[week[a]], day_results2)\n",
    "            \n",
    "                the_results2.append([{weeks_2[weeks[b]]:day_results2}, bdl])\n",
    "                \n",
    "            chart_it2[place] = the_results2\n",
    "        all_results2.append(chart_it2)\n",
    "    \n",
    "    return all_results2\n",
    "               \n",
    "                \n",
    "all_s = weekly_results(a, weeks_l, place[:4], 'unil')  "
   ]
  },
  {
   "cell_type": "code",
   "execution_count": 58,
   "metadata": {},
   "outputs": [],
   "source": [
    "from textwrap import wrap\n",
    "def plot_weekly_totals(x):\n",
    "    rows = len(weeks_l)\n",
    "    cols = len(x) +1\n",
    "    ind = np.arange(6)\n",
    "    width = 1\n",
    "    colss = ['darkblue', 'dodgerblue', 'green', 'turquoise', 'pink', 'lightslategray']\n",
    "\n",
    "    f, axar = plt.subplots(rows, cols, figsize=(18,20))\n",
    "    f.subplots_adjust(hspace=0.9, wspace=0.3)\n",
    "\n",
    "    for i, n in enumerate(x):\n",
    "        if i == 0:\n",
    "            for key, value in x[i].items():\n",
    "                for j, k in enumerate(value):\n",
    "                    axar[j, i].text(0, 0.5, weeks_l[j], fontsize=14)\n",
    "                    axar[j, i].set_axis_off()\n",
    "                    if type(k[0][weeks_l[j]]) == dict:\n",
    "                        axar[j, i+1].text(0.2, 0.5, k[0][weeks_l[j]]['no_test'], fontsize=10)\n",
    "                        axar[j, i+1].set_title(key)\n",
    "                        \n",
    "                    else:\n",
    "                        axar[j, i+1].bar(ind, k[0][weeks_l[j]], width, color=colss)\n",
    "                        axar[j, i+1].set_title(key)\n",
    "                        axis_label = '\\n'.join(wrap(list(k[1].values())[0], 24))\n",
    "                        axar[j, i+1].set_xlabel(list(k[1].keys())[0] +': '+ axis_label)\n",
    "                        if max(k[0][weeks_l[j]]) == 25:\n",
    "                            axar[j, i+1].set_ylim(0, max(k[0][weeks_l[j]]) + 75)\n",
    "                        else:\n",
    "                            axar[j, i+1].set_ylim(0, max(k[0][weeks_l[j]]) + 10)\n",
    "        else:\n",
    "            for key, value in x[i].items():\n",
    "                for j, k in enumerate(value):\n",
    "                    if type(k[0][weeks_l[j]]) == dict:\n",
    "                        axar[j, i+1].text(0.2, 0.5, k[0][weeks_l[j]]['no_test'], fontsize=10)\n",
    "                        axar[j, i+1].set_title(key)\n",
    "                       \n",
    "                    else:\n",
    "                        axar[j, i+1].bar(ind,  k[0][weeks_l[j]],width, color=colss)\n",
    "                        axar[j, i+1].set_title(key)\n",
    "                        axis_label = '\\n'.join(wrap(list(k[1].values())[0], 24))\n",
    "                        axar[j, i+1].set_xlabel(list(k[1].keys())[0] +': '+ axis_label)\n",
    "                        if max(k[0][weeks_l[j]]) == 25:\n",
    "                            axar[j, i+1].set_ylim(0, max(k[0][weeks_l[j]]) + 75)\n",
    "                        else:\n",
    "                            axar[j, i+1].set_ylim(0, max(k[0][weeks_l[j]]) + 10)\n",
    "                    \n",
    "    plt.savefig('unil_Grid.svg')\n",
    "    plt.savefig('unil_Grid.png')\n",
    "    plt.show()"
   ]
  },
  {
   "cell_type": "code",
   "execution_count": 59,
   "metadata": {},
   "outputs": [
    {
     "data": {
      "image/png": "[encoded data removed]",
      "text/plain": [
       "<matplotlib.figure.Figure at 0x7fb72be60a58>"
      ]
     },
     "metadata": {},
     "output_type": "display_data"
    }
   ],
   "source": [
    "plot_weekly_totals(all_s)"
   ]
  },
  {
   "cell_type": "code",
   "execution_count": 45,
   "metadata": {},
   "outputs": [],
   "source": [
    "all_results = []\n",
    "import re\n",
    "p = re.compile('tmtc', re.IGNORECASE)\n",
    "for n, beach in enumerate(place[:4]):\n",
    "    chart_it = {beach:[]}\n",
    "    the_results = []\n",
    "    for i, date in enumerate(dates):        \n",
    "        zz = a[(a.Date == date) & (a.Location == beach ) & (a.medium == 'easy_gel')]\n",
    "        comments = list(zz['Comments_p1_24h'])\n",
    "        if len(comments) ==1:\n",
    "            if p.search(comments[0]):\n",
    "                bdl={'TMTC':''}\n",
    "            else:\n",
    "                bdl={'BDL':''}\n",
    "        day_results = []\n",
    "        string = []\n",
    "        for n, sample in enumerate(all_colors):\n",
    "            qi = zz[sample]\n",
    "            if sum(qi.sum()) == 0:\n",
    "                for s in sample:\n",
    "                    if sample[0][7:] not in string:\n",
    "                        string.append(sample[0][7:])\n",
    "            bdl[list(bdl.keys())[0]] = ', '.join(string)\n",
    "            yy = list(zz[sample].sum())\n",
    "            yr = []\n",
    "            for d in yy:\n",
    "                if d == 0:\n",
    "                    yr.append(d)\n",
    "                if d > 0:\n",
    "                    yr.append(np.log(d))\n",
    "            yg = np.mean(yr)\n",
    "            yh = np.std(yr)\n",
    "            f_95 = yg+yh*1.649\n",
    "            f_95 = np.exp(f_95).round(2)\n",
    "            if zz[plate_one[0]].item() == 0.5:\n",
    "                f_95 = f_95 * 200\n",
    "            elif zz[plate_one[0]].item() == 1:\n",
    "                f_95 = f_95 * 100\n",
    "            elif zz[plate_one[0]].item() == 4:\n",
    "                f_95 = f_95 * 25\n",
    "            day_results.append(f_95) \n",
    "        the_results.append([{weeks_2[date]:day_results}, bdl])        \n",
    "    chart_it[beach] = the_results\n",
    "    all_results.append(chart_it)"
   ]
  },
  {
   "cell_type": "code",
   "execution_count": 46,
   "metadata": {},
   "outputs": [],
   "source": [
    "from textwrap import wrap\n",
    "def plot_weekly_totals(x):\n",
    "    rows = len(weeks_l)\n",
    "    cols = len(x) +1\n",
    "    ind = np.arange(6)\n",
    "    width = 1\n",
    "    colss = ['darkblue', 'dodgerblue', 'green', 'turquoise', 'pink', 'lightslategray']\n",
    "\n",
    "    f, axar = plt.subplots(rows, cols, figsize=(18,20))\n",
    "    f.subplots_adjust(hspace=0.9, wspace=0.3)\n",
    "\n",
    "    for i, n in enumerate(x):\n",
    "        if i == 0:\n",
    "            for key, value in x[i].items():\n",
    "                for j, k in enumerate(value):\n",
    "                    axar[j, i].text(0, 0.5, weeks_l[j], fontsize=14)\n",
    "                    axar[j, i].set_axis_off()\n",
    "                    axar[j, i+1].bar(ind, k[0][weeks_l[j]], width, color=colss)\n",
    "                    axar[j, i+1].set_title(key)\n",
    "                    axis_label = '\\n'.join(wrap(list(k[1].values())[0], 24))\n",
    "                    axar[j, i+1].set_xlabel(list(k[1].keys())[0] +': '+ axis_label)\n",
    "                    if max(k[0][weeks_l[j]]) == 25:\n",
    "                        axar[j, i+1].set_ylim(0, max(k[0][weeks_l[j]]) + 75)\n",
    "                    else:\n",
    "                        axar[j, i+1].set_ylim(0, max(k[0][weeks_l[j]]) + 10)\n",
    "        else:\n",
    "            for key, value in x[i].items():\n",
    "                for j, k in enumerate(value):\n",
    "                    axar[j, i+1].bar(ind,  k[0][weeks_l[j]],width, color=colss)\n",
    "                    axar[j, i+1].set_title(key)\n",
    "                    axis_label = '\\n'.join(wrap(list(k[1].values())[0], 24))\n",
    "                    axar[j, i+1].set_xlabel(list(k[1].keys())[0] +': '+ axis_label)\n",
    "                    if max(k[0][weeks_l[j]]) == 25:\n",
    "                        axar[j, i+1].set_ylim(0, max(k[0][weeks_l[j]]) + 75)\n",
    "                    else:\n",
    "                        axar[j, i+1].set_ylim(0, max(k[0][weeks_l[j]]) + 10)\n",
    "                    \n",
    "    plt.savefig('ez_gelGrid.svg')\n",
    "    plt.savefig('ez_gel_Grid.png')\n",
    "    plt.show()"
   ]
  },
  {
   "cell_type": "markdown",
   "metadata": {},
   "source": [
    "## Results aggregated easy gel -- all plates\n",
    "### 95th percentile -- P95 = mean + std*1.649\n",
    "#### if a chart is bumped up against a limit that means the results are less than the detectable limit ie... week one: (SVT,VNX,MRD) for that dilution or TMTC ie.. week eight Echandens --- the reslult was given as zero in the file\n",
    "\n",
    "\n",
    "### BDL = 'Below detectable limit', TMTC = 'Too many to count'\n",
    "#### The color and whether BDL or TMTC  is noted on the X-Axis label\n",
    "\n"
   ]
  },
  {
   "cell_type": "code",
   "execution_count": 47,
   "metadata": {},
   "outputs": [
    {
     "data": {
      "image/png": "[encoded data removed]",
      "text/plain": [
       "<matplotlib.figure.Figure at 0x7fb7326d2ba8>"
      ]
     },
     "metadata": {},
     "output_type": "display_data"
    }
   ],
   "source": [
    "plot_weekly_totals(all_results)"
   ]
  },
  {
   "cell_type": "code",
   "execution_count": 48,
   "metadata": {},
   "outputs": [],
   "source": [
    "# def averages(df, date, places, medium, one_sample, two_sample, three_sample):\n",
    "#     for day in date:\n",
    "#         total = 0\n",
    "#         average = 0\n",
    "#         nine_5 = 0\n",
    "#         for place in places:\n",
    "#             if place in list(df[(df.date == day)]['Location']):\n",
    "#                 record = df[(df.Date == day) & (df.Location == places) & (df.medium == medium)]\n",
    "#                 if record['Samples'].item() == 1:\n",
    "#                     # then list 'one_sample\" has the columns\n",
    "#                     for sample in one_sample:\n",
    "#                         a = record[sample]\n",
    "#                         total += sum(a.sum())\n",
    "#                         average += np.mean(a.sum())\n",
    "#                 elif record['Samples'].item() == 2:\n",
    "#                     # then list 'two_sample' has the columns\n",
    "#                     for sample in two_sample:\n",
    "#                         a = record[sample]\n",
    "#                         total += sum(a.sum())\n",
    "#                         total += sum(a.sum())\n",
    "#                         average += np.mean(a.sum())\n",
    "#                 elif record['Samples'].item() == 3:\n",
    "#                     # then list 'three_sample' has the columns\n",
    "#                     for sample in three_sample:\n",
    "#                         a = record[sample]\n",
    "#                         total += sum(a.sum())\n",
    "#                         average += np.mean(a.sum())\n",
    "                \n",
    "        \n",
    "        \n",
    "             \n",
    "            \n",
    "    "
   ]
  }
 ],
 "metadata": {
  "kernelspec": {
   "display_name": "Python 3",
   "language": "python",
   "name": "python3"
  },
  "language_info": {
   "codemirror_mode": {
    "name": "ipython",
    "version": 3
   },
   "file_extension": ".py",
   "mimetype": "text/x-python",
   "name": "python",
   "nbconvert_exporter": "python",
   "pygments_lexer": "ipython3",
   "version": "3.6.4"
  }
 },
 "nbformat": 4,
 "nbformat_minor": 1
}
