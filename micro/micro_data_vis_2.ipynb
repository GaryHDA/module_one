{
 "cells": [
  {
   "cell_type": "markdown",
   "metadata": {},
   "source": [
    "### Data transformation and visualiztion note book\n",
    "#### Section micro"
   ]
  },
  {
   "cell_type": "code",
   "execution_count": 1,
   "metadata": {},
   "outputs": [],
   "source": [
    "import pandas as pd\n",
    "import numpy as np\n",
    "import matplotlib\n",
    "import matplotlib.pyplot as plt"
   ]
  },
  {
   "cell_type": "code",
   "execution_count": 2,
   "metadata": {},
   "outputs": [],
   "source": [
    "# get the data\n",
    "a = pd.read_csv('data/forReview_RAoctB.csv')"
   ]
  },
  {
   "cell_type": "code",
   "execution_count": 3,
   "metadata": {},
   "outputs": [
    {
     "name": "stdout",
     "output_type": "stream",
     "text": [
      "['Date', 'Location', 'medium', 'Samples', 'Sampling_Notes', 'Water_temp', 'Plating_notes', 'Temp_incubation', 'P1_qty_sample', 'Image_24h_fluo_plate_one', 'P1_fluo_halo_colonies', 'P1_fluo_other', 'Plate_one_24h_image', 'P1_24h_big_blue', 'P1_24h_med_blue', 'P1_24h_green', 'P1_24h_turq', 'P1_24h_pink', 'P1_24h_other', 'Comments_p1_24h', 'Plate_one_48h_image', 'P1_48h_big_blue', 'P1_48h_med_blue', 'P1_48h_green', 'P1_48h_turq', 'P1_48h_pink', 'P1_48h_other', 'Comments_p1_48h', 'P2_qty_sample', 'Image_24h_fluo_plate_two', 'P2_fluo_halo_colonies', 'P2_fluo_other', 'Plate_two_24h_image', 'P2_24h_big_blue', 'P2_24h_med_blue', 'P2_24h_green', 'P2_24h_turq', 'P2_24h_pink', 'P2_24h_other', 'Comments_p2_24h', 'Plate_two_48h_image', 'P2_48h_big_blue', 'P2_48h_med_blue', 'P2_48h_green', 'P2_48h_turq', 'P2_48h_pink', 'P2_48h_other', 'Comments_p2_48h', 'P3_qty_sample', 'Image_24h_fluo_plate_three', 'p3_fluo_halo_colonies', 'p3_fluo_other', 'Plate_three_24h_image', 'P3_24h_big_blue', 'P3_24h_med_blue', 'P3_24h_green', 'P3_24h_turq', 'P3_24h_pink', 'P3_24h_other', 'Comments_p3_24h', 'Plate_three_48h_image', 'P3_48h_big_blue', 'P3_48h_med_blue', 'P3_48h_green', 'P3_48h_turq', 'P3_48h_pink', 'P3_48h_other', 'Comments_p3_48h', 'latitude', 'longitude', 'Location_Image']\n"
     ]
    }
   ],
   "source": [
    "# this is \"record data\" each row corresponds to an event:\n",
    "### each event is a water sample from a location on particular day\n",
    "#### for each event there are three samples, those three samples get split between three agar plates\n",
    "##### each plate can have a total result of x_total = x1 + x2 +...+ x6\n",
    "###### x1 ... x6 are subtotals that can be compared across dates and/or locations\n",
    "# do the steps to get the descriptive statistics\n",
    "# create output that can be used by : javaScript, django, bokeh\n",
    "### at a granularity appropriate to establish an accurate assesment of the laboratory results\n",
    "a_cols = list(a.columns)\n",
    "def print_this_list(a):\n",
    "    for x in a:\n",
    "        print(x)\n",
    "print(a_cols)\n",
    "#check the columns"
   ]
  },
  {
   "cell_type": "code",
   "execution_count": 4,
   "metadata": {},
   "outputs": [
    {
     "data": {
      "text/plain": [
       "0    2017/06/12\n",
       "1    2017/06/12\n",
       "2    2017/06/12\n",
       "3    2017/06/12\n",
       "4    2017/06/12\n",
       "5    2017/06/12\n",
       "6    2017/06/19\n",
       "7    2017/06/19\n",
       "8    2017/06/19\n",
       "9    2017/06/19\n",
       "Name: Date, dtype: object"
      ]
     },
     "execution_count": 4,
     "metadata": {},
     "output_type": "execute_result"
    }
   ],
   "source": [
    "# go in a terminal and check the date column\n",
    "# it is in %y%.m%.d format\n",
    "# for whatever reason the pd,datetime did not recoginze the data 17.06.12\n",
    "# it flipped it to : 17.12.06 ---- which wont work\n",
    "# so use some list index and str properties to make this right\n",
    "b = a['Date'].copy()\n",
    "new_dates = []\n",
    "new_dic = {}\n",
    "for x in b:\n",
    "    year = '20'+str(x[6:])\n",
    "    day = x[:2]\n",
    "    month = x[3:5]\n",
    "    new_d = year + '/' + str(month) + '/' + str(day)\n",
    "    new_dates.append({x:new_d})\n",
    "    new_dic.update({x:new_d})\n",
    "new_dates[:10]\n",
    "\n",
    "a['Date'] = a['Date'].map(new_dic)\n",
    "a['Date'][:10]"
   ]
  },
  {
   "cell_type": "code",
   "execution_count": 5,
   "metadata": {},
   "outputs": [],
   "source": [
    "# So there are alot of columns here\n",
    "# index will be\n",
    "# 'Date', 'Location', 'medium', 'Samples', 'Sampling_Notes', 'Water_temp', 'Plating_notes', 'Temp_incubation',\n",
    "# I want that with each record for now\n",
    "\n",
    "plate_one = ['P1_qty_sample',\n",
    "             'Image_24h_fluo_plate_one',\n",
    "             'P1_fluo_halo_colonies',\n",
    "             'P1_fluo_other',\n",
    "             'Plate_one_24h_image',\n",
    "             'P1_24h_big_blue',\n",
    "             'P1_24h_med_blue',\n",
    "             'P1_24h_green',\n",
    "             'P1_24h_turq',\n",
    "             'P1_24h_pink',\n",
    "             'P1_24h_other',\n",
    "             'Comments_p1_24h',\n",
    "             'Plate_one_48h_image',\n",
    "             'P1_48h_big_blue',\n",
    "             'P1_48h_med_blue',\n",
    "             'P1_48h_green',\n",
    "             'P1_48h_turq',\n",
    "             'P1_48h_pink',\n",
    "             'P1_48h_other',\n",
    "             'Comments_p1_48h']"
   ]
  },
  {
   "cell_type": "code",
   "execution_count": 6,
   "metadata": {},
   "outputs": [],
   "source": [
    "plate_two = ['P2_qty_sample',\n",
    "             'Image_24h_fluo_plate_two',\n",
    "             'P2_fluo_halo_colonies',\n",
    "             'P2_fluo_other',\n",
    "             'Plate_two_24h_image',\n",
    "             'P2_24h_big_blue',\n",
    "             'P2_24h_med_blue',\n",
    "             'P2_24h_green',\n",
    "             'P2_24h_turq',\n",
    "             'P2_24h_pink',\n",
    "             'P2_24h_other',\n",
    "             'Comments_p2_24h',\n",
    "             'Plate_two_48h_image',\n",
    "             'P2_48h_big_blue',\n",
    "             'P2_48h_med_blue',             \n",
    "             'P2_48h_green',\n",
    "             'P2_48h_turq',\n",
    "             'P2_48h_pink',\n",
    "             'P2_48h_other',\n",
    "             'Comments_p2_48h']"
   ]
  },
  {
   "cell_type": "code",
   "execution_count": 7,
   "metadata": {},
   "outputs": [],
   "source": [
    "plate_three = ['P3_qty_sample',\n",
    "               'Image_24h_fluo_plate_three',\n",
    "               'p3_fluo_halo_colonies',\n",
    "               'p3_fluo_other',\n",
    "               'Plate_three_24h_image',\n",
    "               'P3_24h_big_blue',\n",
    "               'P3_24h_med_blue',\n",
    "               'P3_24h_green',\n",
    "               'P3_24h_turq',\n",
    "               'P3_24h_pink',\n",
    "               'P3_24h_other',\n",
    "               'Comments_p3_24h',\n",
    "               'Plate_three_48h_image',\n",
    "               'P3_48h_big_blue',\n",
    "               'P3_48h_med_blue',\n",
    "               'P3_48h_green',\n",
    "               'P3_48h_turq',\n",
    "               'P3_48h_pink',\n",
    "               'P3_48h_other',\n",
    "               'Comments_p3_48h'] "
   ]
  },
  {
   "cell_type": "code",
   "execution_count": 8,
   "metadata": {},
   "outputs": [],
   "source": [
    "map_it = ['Location','latitude', 'longitude']"
   ]
  },
  {
   "cell_type": "code",
   "execution_count": 9,
   "metadata": {},
   "outputs": [],
   "source": [
    "index = ['Date',\n",
    "         'Location',\n",
    "         'medium',\n",
    "         'Samples',\n",
    "         'Sampling_Notes',\n",
    "         'Water_temp',\n",
    "         'Plating_notes',\n",
    "         'Temp_incubation',]"
   ]
  },
  {
   "cell_type": "code",
   "execution_count": 10,
   "metadata": {},
   "outputs": [
    {
     "name": "stdout",
     "output_type": "stream",
     "text": [
      "71 71\n"
     ]
    }
   ],
   "source": [
    "# so the info repeats it self for each plate\n",
    "# set up lists and variables to keep track of all that\n",
    "# make sure that all the column names are accounted for\n",
    "# we have yet to account for 'location_image'\n",
    "def count_it(a):\n",
    "    n = 0\n",
    "    for x in a:\n",
    "        a = len(x)\n",
    "        n += a\n",
    "    return n\n",
    "groups = [index, map_it, plate_one, plate_two, plate_three]\n",
    "print(count_it(groups), len(a_cols))\n",
    "# the count works because the column 'location image' is not included"
   ]
  },
  {
   "cell_type": "code",
   "execution_count": 11,
   "metadata": {},
   "outputs": [
    {
     "name": "stdout",
     "output_type": "stream",
     "text": [
      "74 71\n"
     ]
    }
   ],
   "source": [
    "loc_image = ['Date', 'Location', 'Location_Image']\n",
    "groups.append(loc_image)\n",
    "print(count_it(groups), len(a_cols))\n",
    "#should be plus three"
   ]
  },
  {
   "cell_type": "code",
   "execution_count": 12,
   "metadata": {},
   "outputs": [],
   "source": [
    "# okay onwards\n",
    "# break the results into time scale (beacuase i can)\n",
    "# the info repeats it self\n",
    "# this should get dwon to a series of lists\n",
    "# if executed in right sequence as variables \n",
    "# will extract all possible combinations of the data provided\n",
    "plate_one_24 = ['P1_qty_sample',\n",
    "                'Plate_one_24h_image',\n",
    "                'P1_24h_big_blue',\n",
    "                'P1_24h_med_blue',\n",
    "                'P1_24h_green',\n",
    "                'P1_24h_turq',\n",
    "                'P1_24h_pink',\n",
    "                'P1_24h_other',\n",
    "                'Comments_p1_24h',]\n",
    "             \n",
    "plate_one_48 = ['P1_qty_sample',\n",
    "                'Plate_one_48h_image',\n",
    "                'P1_48h_big_blue',\n",
    "                'P1_48h_med_blue',\n",
    "                'P1_48h_green',\n",
    "                'P1_48h_turq',\n",
    "                'P1_48h_pink',\n",
    "                'P1_48h_other',\n",
    "                'Comments_p1_48h']\n"
   ]
  },
  {
   "cell_type": "code",
   "execution_count": 13,
   "metadata": {},
   "outputs": [],
   "source": [
    "# these can also be constructed using a list index method\n",
    "plate_two_24 = ['P2_qty_sample',\n",
    "                'Plate_two_24h_image',\n",
    "                'P2_24h_big_blue',\n",
    "                'P2_24h_med_blue',\n",
    "                'P2_24h_green',\n",
    "                'P2_24h_turq',\n",
    "                'P2_24h_pink',\n",
    "                'P2_24h_other',\n",
    "                'Comments_p2_24h']\n",
    "\n",
    "plate_two_48 = ['P2_qty_sample',\n",
    "                'Plate_two_48h_image',\n",
    "                'P2_48h_big_blue',\n",
    "                'P2_48h_med_blue',             \n",
    "                'P2_48h_green',\n",
    "                'P2_48h_turq',\n",
    "                'P2_48h_pink',\n",
    "                'P2_48h_other',\n",
    "                'Comments_p2_48h']"
   ]
  },
  {
   "cell_type": "code",
   "execution_count": 14,
   "metadata": {},
   "outputs": [],
   "source": [
    "plate_three_24 = ['P3_qty_sample',\n",
    "                  'Plate_three_24h_image',\n",
    "                  'P3_24h_big_blue',\n",
    "                  'P3_24h_med_blue',\n",
    "                  'P3_24h_green',\n",
    "                  'P3_24h_turq',\n",
    "                  'P3_24h_pink',\n",
    "                  'P3_24h_other',\n",
    "                  'Comments_p3_24h',]\n",
    "               \n",
    "plate_three_48 = ['P3_qty_sample',\n",
    "                  'Plate_three_48h_image',\n",
    "                  'P3_48h_big_blue',\n",
    "                  'P3_48h_med_blue',\n",
    "                  'P3_48h_green',\n",
    "                  'P3_48h_turq',\n",
    "                  'P3_48h_pink',\n",
    "                  'P3_48h_other',\n",
    "                  'Comments_p3_48h']"
   ]
  },
  {
   "cell_type": "code",
   "execution_count": 15,
   "metadata": {},
   "outputs": [],
   "source": [
    "plate_one_fluo = ['Image_24h_fluo_plate_one',\n",
    "                  'P1_fluo_halo_colonies',\n",
    "                  'P1_fluo_other']\n",
    "plate_two_fluo = ['Image_24h_fluo_plate_two',\n",
    "                  'P2_fluo_halo_colonies',\n",
    "                  'P2_fluo_other']\n",
    "plate_three_fluo = ['Image_24h_fluo_plate_three',\n",
    "                    'p3_fluo_halo_colonies',\n",
    "                    'p3_fluo_other']"
   ]
  },
  {
   "cell_type": "code",
   "execution_count": 16,
   "metadata": {},
   "outputs": [
    {
     "data": {
      "text/plain": [
       "array([3, 8, 6, 4, 8, 3, 1, 7])"
      ]
     },
     "execution_count": 16,
     "metadata": {},
     "output_type": "execute_result"
    }
   ],
   "source": [
    "# test the list indexes:\n",
    "d = np.random.randint(9, size=8)\n",
    "d"
   ]
  },
  {
   "cell_type": "code",
   "execution_count": 17,
   "metadata": {},
   "outputs": [
    {
     "data": {
      "text/plain": [
       "6"
      ]
     },
     "execution_count": 17,
     "metadata": {},
     "output_type": "execute_result"
    }
   ],
   "source": [
    "# or run this at each loop\n",
    "np.random.choice(9)"
   ]
  },
  {
   "cell_type": "code",
   "execution_count": 18,
   "metadata": {},
   "outputs": [],
   "source": [
    "# this data can be seen as a whole (the sum of all the xis or seperated by incubation time)\n",
    "plate_groups = [plate_one_24, plate_two_24, plate_three_24, plate_one_48, plate_two_48, plate_three_48]\n",
    "plate_24 = plate_groups[:3]\n",
    "plate_48 = plate_groups[3:]"
   ]
  },
  {
   "cell_type": "code",
   "execution_count": 19,
   "metadata": {},
   "outputs": [
    {
     "name": "stdout",
     "output_type": "stream",
     "text": [
      "P1_24h_med_blue\n",
      "P2_24h_med_blue\n",
      "P3_24h_med_blue\n",
      "P1_48h_med_blue\n",
      "P2_48h_med_blue\n",
      "P3_48h_med_blue\n",
      "loop\n"
     ]
    }
   ],
   "source": [
    "# to check this i will grab a random number and sue it to\n",
    "# index the lists created from the columns\n",
    "# these will be used as lables later to call data out\n",
    "# the out pt should be the same for all values x[i] where i = np.random.choice(9)\n",
    "\n",
    "def check_indexes(a):\n",
    "    n = 0\n",
    "    i = np.random.choice(9)\n",
    "    if n <= 4:        \n",
    "        for x in a:\n",
    "            print(x[i])\n",
    "        print('loop')\n",
    "        n += 1\n",
    "        \n",
    "check_indexes(plate_groups)\n",
    "# okay this function can run forever and i get the same output from each group         \n",
    "        "
   ]
  },
  {
   "cell_type": "code",
   "execution_count": 20,
   "metadata": {},
   "outputs": [
    {
     "data": {
      "text/plain": [
       "[Timestamp('2017-06-12 00:00:00'),\n",
       " Timestamp('2017-06-19 00:00:00'),\n",
       " Timestamp('2017-06-26 00:00:00'),\n",
       " Timestamp('2017-07-03 00:00:00'),\n",
       " Timestamp('2017-07-10 00:00:00'),\n",
       " Timestamp('2017-07-17 00:00:00'),\n",
       " Timestamp('2017-07-24 00:00:00'),\n",
       " Timestamp('2017-07-31 00:00:00')]"
      ]
     },
     "execution_count": 20,
     "metadata": {},
     "output_type": "execute_result"
    }
   ],
   "source": [
    "# group the dates by week number\n",
    "# first get a sorted list by date\n",
    "# any way you do it there is a transformation to happen\n",
    "b = a['Date'].copy()\n",
    "b = pd.to_datetime(b, format='%Y/%m/%d')\n",
    "b = list(b)\n",
    "b.sort()\n",
    "b = list(set(b))\n",
    "b.sort()\n",
    "b\n",
    "# the time stamp works here but it is a hassel in js\n",
    "# the value will be kept but I will also asign a week no"
   ]
  },
  {
   "cell_type": "code",
   "execution_count": 21,
   "metadata": {},
   "outputs": [
    {
     "name": "stdout",
     "output_type": "stream",
     "text": [
      "{'Week one': Timestamp('2017-06-12 00:00:00'), 'Week two': Timestamp('2017-06-19 00:00:00'), 'Week three': Timestamp('2017-06-26 00:00:00'), 'Week four': Timestamp('2017-07-03 00:00:00'), 'Week five': Timestamp('2017-07-10 00:00:00'), 'Week six': Timestamp('2017-07-17 00:00:00'), 'Week seven': Timestamp('2017-07-24 00:00:00'), 'Week eight': Timestamp('2017-07-31 00:00:00')} [Timestamp('2017-06-12 00:00:00'), Timestamp('2017-06-19 00:00:00'), Timestamp('2017-06-26 00:00:00'), Timestamp('2017-07-03 00:00:00'), Timestamp('2017-07-10 00:00:00'), Timestamp('2017-07-17 00:00:00'), Timestamp('2017-07-24 00:00:00'), Timestamp('2017-07-31 00:00:00')]\n"
     ]
    }
   ],
   "source": [
    "weeks_l = ['Week one', 'Week two', 'Week three', 'Week four', 'Week five', 'Week six', 'Week seven', 'Week eight']\n",
    "weeks = dict(zip(weeks_l, b))\n",
    "print(weeks, b)"
   ]
  },
  {
   "cell_type": "code",
   "execution_count": 22,
   "metadata": {},
   "outputs": [],
   "source": [
    "# makesure the orignal df is up to speed\n",
    "a['Date'] = pd.to_datetime(a['Date'],format='%Y/%m/%d' )"
   ]
  },
  {
   "cell_type": "code",
   "execution_count": 23,
   "metadata": {},
   "outputs": [
    {
     "data": {
      "text/plain": [
       "['Hackuarium toilet',\n",
       " 'MRD',\n",
       " 'SVT',\n",
       " 'VNX',\n",
       " 'Hackuarium tap',\n",
       " 'Echandens',\n",
       " 'Nernier']"
      ]
     },
     "execution_count": 23,
     "metadata": {},
     "output_type": "execute_result"
    }
   ],
   "source": [
    "# create a list of place names\n",
    "places = list(a['Location'].copy())\n",
    "places = set(places)\n",
    "place = list(places)\n",
    "place"
   ]
  },
  {
   "cell_type": "code",
   "execution_count": 24,
   "metadata": {},
   "outputs": [
    {
     "data": {
      "text/plain": [
       "'easy_gel'"
      ]
     },
     "execution_count": 24,
     "metadata": {},
     "output_type": "execute_result"
    }
   ],
   "source": [
    "mediums = list(a['medium'].unique().copy())\n",
    "mediums[0]"
   ]
  },
  {
   "cell_type": "code",
   "execution_count": 25,
   "metadata": {},
   "outputs": [],
   "source": [
    "place = ['Echandens',\n",
    "         'SVT',\n",
    "         'VNX',\n",
    "         'MRD',\n",
    "         'Nernier',\n",
    "         'Hackuarium tap',\n",
    "         'Hackuarium toilet']\n",
    "\n",
    "# so now I should get a table of values\n",
    "# corresponding to plate number and color for one date, and one location\n",
    "# check to see what happens if use 1 of each list to slice the data-frame\n",
    "c = a[(a.Location == place[4]) & (a.Date == weeks['Week one'])][[plate_one_24[2], plate_two_24[2], plate_three_24[2]]]"
   ]
  },
  {
   "cell_type": "code",
   "execution_count": 26,
   "metadata": {},
   "outputs": [
    {
     "data": {
      "text/html": [
       "<div>\n",
       "<style scoped>\n",
       "    .dataframe tbody tr th:only-of-type {\n",
       "        vertical-align: middle;\n",
       "    }\n",
       "\n",
       "    .dataframe tbody tr th {\n",
       "        vertical-align: top;\n",
       "    }\n",
       "\n",
       "    .dataframe thead th {\n",
       "        text-align: right;\n",
       "    }\n",
       "</style>\n",
       "<table border=\"1\" class=\"dataframe\">\n",
       "  <thead>\n",
       "    <tr style=\"text-align: right;\">\n",
       "      <th></th>\n",
       "      <th>P1_24h_big_blue</th>\n",
       "      <th>P2_24h_big_blue</th>\n",
       "      <th>P3_24h_big_blue</th>\n",
       "    </tr>\n",
       "  </thead>\n",
       "  <tbody>\n",
       "    <tr>\n",
       "      <th>4</th>\n",
       "      <td>1.0</td>\n",
       "      <td>0.0</td>\n",
       "      <td>0.0</td>\n",
       "    </tr>\n",
       "  </tbody>\n",
       "</table>\n",
       "</div>"
      ],
      "text/plain": [
       "   P1_24h_big_blue  P2_24h_big_blue  P3_24h_big_blue\n",
       "4              1.0              0.0              0.0"
      ]
     },
     "execution_count": 26,
     "metadata": {},
     "output_type": "execute_result"
    }
   ],
   "source": [
    "c"
   ]
  },
  {
   "cell_type": "code",
   "execution_count": 27,
   "metadata": {},
   "outputs": [
    {
     "name": "stdout",
     "output_type": "stream",
     "text": [
      "<class 'pandas.core.frame.DataFrame'>\n"
     ]
    }
   ],
   "source": [
    "print(type(c))\n",
    "# that output looks good\n",
    "# create a list index for the plate counts\n",
    "bugs = [2, 3, 4, 5, 6, 7]\n",
    "# this is temporary and will be replaced with a list derived from the column names\n",
    "# this information down here is good to know"
   ]
  },
  {
   "cell_type": "code",
   "execution_count": 28,
   "metadata": {},
   "outputs": [
    {
     "name": "stdout",
     "output_type": "stream",
     "text": [
      "1.0\n",
      "P1_24h_big_blue    1.0\n",
      "P2_24h_big_blue    0.0\n",
      "P3_24h_big_blue    0.0\n",
      "dtype: float64\n"
     ]
    }
   ],
   "source": [
    "# there is already some pandas functionality here\n",
    "a_sum = c.sum()\n",
    "b_sum = sum(a_sum)\n",
    "c_sum = sum(c.sum())\n",
    "\n",
    "print(c_sum)\n",
    "print(a_sum)"
   ]
  },
  {
   "cell_type": "code",
   "execution_count": 29,
   "metadata": {},
   "outputs": [],
   "source": [
    "# now I can start to get descriptive statistics and visualisations\n",
    "# seperated by date, location, incubation time, plate number, color\n",
    "# and have output that is almost ready to go for charting (js date and float parse on the browser)\n",
    "# but is good for plotting in matplotlib\n",
    "#g"
   ]
  },
  {
   "cell_type": "code",
   "execution_count": 30,
   "metadata": {},
   "outputs": [],
   "source": [
    "plate_48 = [plate_one_48, plate_two_48, plate_three_48]"
   ]
  },
  {
   "cell_type": "code",
   "execution_count": 31,
   "metadata": {},
   "outputs": [],
   "source": [
    "cc = [plate_48, plate_24]\n",
    "big_blue, med_blue, green, turq, pink, other = [], [], [], [], [], []\n",
    "for x in cc:\n",
    "    for plate in x:        \n",
    "        big_blue.append(plate[2])\n",
    "        med_blue.append(plate[3])\n",
    "        green.append(plate[4])\n",
    "        turq.append(plate[5])\n",
    "        pink.append(plate[6])\n",
    "        other.append(plate[7])\n",
    "#big_blue         "
   ]
  },
  {
   "cell_type": "code",
   "execution_count": 32,
   "metadata": {},
   "outputs": [],
   "source": [
    "#b is our list of dates\n",
    "dates = b\n",
    "all_colors = [big_blue, med_blue, green, turq, pink, other]"
   ]
  },
  {
   "cell_type": "code",
   "execution_count": 33,
   "metadata": {},
   "outputs": [],
   "source": [
    "one_sample = [[big_blue[3],big_blue[0]],\n",
    "              [med_blue[3], med_blue[0]],\n",
    "              [green[3], green[0]],\n",
    "              [turq[3], turq[0]],\n",
    "              [pink[3], pink[0]],\n",
    "              [other[3], other[0]]\n",
    "             ] \n",
    "\n",
    "#one_sample"
   ]
  },
  {
   "cell_type": "code",
   "execution_count": 34,
   "metadata": {},
   "outputs": [],
   "source": [
    "#all_colors"
   ]
  },
  {
   "cell_type": "code",
   "execution_count": 35,
   "metadata": {},
   "outputs": [],
   "source": [
    "weeks_2 = dict(zip(b, weeks_l))"
   ]
  },
  {
   "cell_type": "code",
   "execution_count": 36,
   "metadata": {},
   "outputs": [],
   "source": [
    "a.drop(12, inplace=True)"
   ]
  },
  {
   "cell_type": "code",
   "execution_count": 37,
   "metadata": {},
   "outputs": [],
   "source": [
    "rows = len(dates)\n",
    "cols = len(place) + 1\n",
    "ind = np.arange(len(one_sample))\n",
    "width = 1\n",
    "colss = ['r', 'b', 'y', 'g', 'r', 'b']\n",
    "\n",
    "#f, axar = plt.subplots(rows, cols, figsize=(18,14))\n",
    "#f.subplots_adjust(hspace=0.6, wspace=0.3)\n",
    "all_results = []\n",
    "for n, beach in enumerate(place[:4]):\n",
    "    chart_it = {beach:[]}\n",
    "    the_results = []\n",
    "    for i, date in enumerate(dates):        \n",
    "        xx = a[(a.Date == date) & (a.Location == beach ) & (a.medium == 'easy_gel')]\n",
    "        day_results = []\n",
    "        for n, sample in enumerate(all_colors):\n",
    "#             if sum(xx[sample].sum()) == 0:\n",
    "#                 f_95 = 0\n",
    "#             else:\n",
    "            yy = list(xx[sample].sum())\n",
    "            yr = []\n",
    "            for d in yy:\n",
    "                if d == 0:\n",
    "                    yr.append(d)\n",
    "                if d > 0:\n",
    "                    yr.append(np.log(d))\n",
    "#                 print(yy)\n",
    "#                 yy = yy.apply(np.log)\n",
    "#                 print(yy)\n",
    "            yg = np.mean(yr)\n",
    "            yh = np.std(yr)\n",
    "            f_95 = yg+yh*1.649\n",
    "            f_95 = np.exp(f_95).round(2)\n",
    "            if xx[plate_one[0]].item() == 0.5:\n",
    "                f_95 = f_95 * 200\n",
    "            elif xx[plate_one[0]].item() == 1:\n",
    "                f_95 = f_95 * 100\n",
    "            elif xx[plate_one[0]].item() == 4:\n",
    "                f_95 = f_95 * 25\n",
    "            #print(beach,sample[0][7:], sum(yy))\n",
    "            day_results.append(f_95)\n",
    "            #w = day_results\n",
    "            #name.append(beach)\n",
    "            #vv = {beach:}\n",
    "        #print(weeks_l[i], day_results)\n",
    "        the_results.append({weeks_2[date]:day_results})\n",
    "    chart_it[beach] = the_results\n",
    "    all_results.append(chart_it)\n",
    "    #print(chart_it)"
   ]
  },
  {
   "cell_type": "code",
   "execution_count": 41,
   "metadata": {},
   "outputs": [],
   "source": [
    "def plot_weekly_totals(x):\n",
    "    rows = len(weeks_l)\n",
    "    cols = len(x) +1\n",
    "    ind = np.arange(6)\n",
    "    width = 1\n",
    "    colss = ['r', 'b', 'y', 'g', 'r', 'b']\n",
    "\n",
    "    f, axar = plt.subplots(rows, cols, figsize=(18,14))\n",
    "    f.subplots_adjust(hspace=0.6, wspace=0.3)\n",
    "\n",
    "    for i, n in enumerate(x):\n",
    "        if i == 0:\n",
    "            for key, value in x[i].items():\n",
    "                for j, k in enumerate(value):\n",
    "                    axar[j, i].text(0, 0.5, weeks_l[j], fontsize=14)\n",
    "                    axar[j, i].set_axis_off()\n",
    "                    axar[j, i+1].bar(ind, k[weeks_l[j]], width, color=colss)\n",
    "                    axar[j, i+1].set_title(key)\n",
    "                    axar[j, i+1].set_ylim(0, max(k[weeks_l[j]]) + 10)\n",
    "        else:\n",
    "            for key, value in x[i].items():\n",
    "                for j, k in enumerate(value):\n",
    "#                     axar[j, i].text(0, 0.5, weeks_l[j], fontsize=14)\n",
    "#                     axar[j, i].set_axis_off()\n",
    "                    axar[j, i+1].bar(ind, k[weeks_l[j]], width, color=colss)\n",
    "                    axar[j, i+1].set_title(key)\n",
    "                    axar[j, i+1].set_ylim(0,max(k[weeks_l[j]]) + 10)\n",
    "            \n",
    "    plt.show()"
   ]
  },
  {
   "cell_type": "code",
   "execution_count": 42,
   "metadata": {},
   "outputs": [],
   "source": [
    "#all_results"
   ]
  },
  {
   "cell_type": "code",
   "execution_count": 43,
   "metadata": {},
   "outputs": [
    {
     "data": {
      "image/png": "[encoded data removed]",
      "text/plain": [
       "<matplotlib.figure.Figure at 0x7f183ddc0668>"
      ]
     },
     "metadata": {},
     "output_type": "display_data"
    }
   ],
   "source": [
    "plot_weekly_totals(all_results)"
   ]
  },
  {
   "cell_type": "code",
   "execution_count": 44,
   "metadata": {},
   "outputs": [],
   "source": [
    "def averages(df, date, places, medium, one_sample, two_sample, three_sample):\n",
    "    for day in date:\n",
    "        total = 0\n",
    "        average = 0\n",
    "        nine_5 = 0\n",
    "        for place in places:\n",
    "            if place in list(df[(df.date == day)]['Location']):\n",
    "                record = df[(df.Date == day) & (df.Location == places) & (df.medium == medium)]\n",
    "                if record['Samples'].item() == 1:\n",
    "                    # then list 'one_sample\" has the columns\n",
    "                    for sample in one_sample:\n",
    "                        a = record[sample]\n",
    "                        total += sum(a.sum())\n",
    "                        average += np.mean(a.sum())\n",
    "                elif record['Samples'].item() == 2:\n",
    "                    # then list 'two_sample' has the columns\n",
    "                    for sample in two_sample:\n",
    "                        a = record[sample]\n",
    "                        total += sum(a.sum())\n",
    "                        total += sum(a.sum())\n",
    "                        average += np.mean(a.sum())\n",
    "                elif record['Samples'].item() == 3:\n",
    "                    # then list 'three_sample' has the columns\n",
    "                    for sample in three_sample:\n",
    "                        a = record[sample]\n",
    "                        total += sum(a.sum())\n",
    "                        average += np.mean(a.sum())\n",
    "                \n",
    "        \n",
    "        \n",
    "             \n",
    "            \n",
    "    \n",
    "        for color in colony:\n",
    "            a = df[(df.Date == day) & (df.Location == places) & (df.medium == medium)][color].copy()\n",
    "            total += sum(a.sum())\n",
    "            #print(a.sum())\n",
    "            #print('count per plate')\n",
    "            #print(day,places, medium, color[0])\n",
    "            #print(a.sum())\n",
    "            print('average below')\n",
    "            total2 += np.mean(a.sum())\n",
    "            print(day,places, medium, color[0][7:], np.mean(a.sum()))\n",
    "        b = {(places, day):total2}\n",
    "        print(b)\n",
    "        print('loop')\n",
    "            \n",
    "        \n",
    "#averages(a, dates, place[2], 'easy_gel', all_colors)"
   ]
  },
  {
   "cell_type": "code",
   "execution_count": null,
   "metadata": {},
   "outputs": [],
   "source": []
  },
  {
   "cell_type": "code",
   "execution_count": 45,
   "metadata": {},
   "outputs": [
    {
     "name": "stdout",
     "output_type": "stream",
     "text": [
      "{'Week one': [914.0, 2316.0, 200.0, 200.0, 590.0, 914.0]}\n",
      "{'Week two': [1657.9999999999998, 1912.0, 200.0, 200.0, 1830.0, 200.0]}\n",
      "{'Week three': [2702.0, 3215.9999999999995, 200.0, 200.0, 1657.9999999999998, 200.0]}\n",
      "{'Week four': [234.0, 463.25, 25.0, 54.0, 127.25, 25.0]}\n",
      "{'Week five': [2136.0, 3264.0, 200.0, 200.0, 6322.0, 810.0]}\n",
      "{'Week six': [2454.0, 7512.0, 678.0, 200.0, 1736.0, 200.0]}\n",
      "{'Week seven': [1114.0, 2472.0, 200.0, 472.0, 200.0, 590.0]}\n",
      "{'Week eight': [200.0, 200.0, 200.0, 200.0, 200.0, 200.0]}\n"
     ]
    }
   ],
   "source": [
    "for i, x in enumerate(all_results[:1]):\n",
    "    for key, value in all_results[i].items():\n",
    "        for qu, oy in enumerate(value):\n",
    "            print(value[qu])"
   ]
  },
  {
   "cell_type": "code",
   "execution_count": 46,
   "metadata": {},
   "outputs": [
    {
     "ename": "AttributeError",
     "evalue": "'dict' object has no attribute 'key'",
     "output_type": "error",
     "traceback": [
      "\u001b[0;31m---------------------------------------------------------------------------\u001b[0m",
      "\u001b[0;31mAttributeError\u001b[0m                            Traceback (most recent call last)",
      "\u001b[0;32m<ipython-input-46-1a46f00479d3>\u001b[0m in \u001b[0;36m<module>\u001b[0;34m()\u001b[0m\n\u001b[0;32m----> 1\u001b[0;31m \u001b[0mall_results\u001b[0m\u001b[0;34m[\u001b[0m\u001b[0;36m1\u001b[0m\u001b[0;34m]\u001b[0m\u001b[0;34m.\u001b[0m\u001b[0mkey\u001b[0m\u001b[0;34m.\u001b[0m\u001b[0mvalue\u001b[0m\u001b[0;34m(\u001b[0m\u001b[0;34m)\u001b[0m\u001b[0;34m\u001b[0m\u001b[0m\n\u001b[0m",
      "\u001b[0;31mAttributeError\u001b[0m: 'dict' object has no attribute 'key'"
     ]
    }
   ],
   "source": [
    "all_results[1].key.value()"
   ]
  },
  {
   "cell_type": "code",
   "execution_count": null,
   "metadata": {},
   "outputs": [],
   "source": []
  }
 ],
 "metadata": {
  "kernelspec": {
   "display_name": "Python 3",
   "language": "python",
   "name": "python3"
  },
  "language_info": {
   "codemirror_mode": {
    "name": "ipython",
    "version": 3
   },
   "file_extension": ".py",
   "mimetype": "text/x-python",
   "name": "python",
   "nbconvert_exporter": "python",
   "pygments_lexer": "ipython3",
   "version": "3.6.4"
  }
 },
 "nbformat": 4,
 "nbformat_minor": 1
}
