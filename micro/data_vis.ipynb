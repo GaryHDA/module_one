{
 "cells": [
  {
   "cell_type": "markdown",
   "metadata": {},
   "source": [
    "### Data transformation and visualiztion note book\n",
    "#### Section micro"
   ]
  },
  {
   "cell_type": "code",
   "execution_count": 1,
   "metadata": {},
   "outputs": [],
   "source": [
    "import pandas as pd\n",
    "import numpy as np\n"
   ]
  },
  {
   "cell_type": "code",
   "execution_count": 2,
   "metadata": {},
   "outputs": [],
   "source": [
    "# get the data\n",
    "a = pd.read_csv('data/forReview_RAoctB.csv')"
   ]
  },
  {
   "cell_type": "code",
   "execution_count": 3,
   "metadata": {},
   "outputs": [
    {
     "name": "stdout",
     "output_type": "stream",
     "text": [
      "['Date', 'Location', 'medium', 'Samples', 'Sampling_Notes', 'Water_temp', 'Plating_notes', 'Temp_incubation', 'P1_qty_sample', 'Image_24h_fluo_plate_one', 'P1_fluo_halo_colonies', 'P1_fluo_other', 'Plate_one_24h_image', 'P1_24h_big_blue', 'P1_24h_med_blue', 'P1_24h_green', 'P1_24h_turq', 'P1_24h_pink', 'P1_24h_other', 'Comments_p1_24h', 'Plate_one_48h_image', 'P1_48h_big_blue', 'P1_48h_med_blue', 'P1_48h_green', 'P1_48h_turq', 'P1_48h_pink', 'P1_48h_other', 'Comments_p1_48h', 'P2_qty_sample', 'Image_24h_fluo_plate_two', 'P2_fluo_halo_colonies', 'P2_fluo_other', 'Plate_two_24h_image', 'P2_24h_big_blue', 'P2_24h_med_blue', 'P2_24h_green', 'P2_24h_turq', 'P2_24h_pink', 'P2_24h_other', 'Comments_p2_24h', 'Plate_two_48h_image', 'P2_48h_big_blue', 'P2_48h_med_blue', 'P2_48h_green', 'P2_48h_turq', 'P2_48h_pink', 'P2_48h_other', 'Comments_p2_48h', 'P3_qty_sample', 'Image_24h_fluo_plate_three', 'p3_fluo_halo_colonies', 'p3_fluo_other', 'Plate_three_24h_image', 'P3_24h_big_blue', 'P3_24h_med_blue', 'P3_24h_green', 'P3_24h_turq', 'P3_24h_pink', 'P3_24h_other', 'Comments_p3_24h', 'Plate_three_48h_image', 'P3_48h_big_blue', 'P3_48h_med_blue', 'P3_48h_green', 'P3_48h_turq', 'P3_48h_pink', 'P3_48h_other', 'Comments_p3_48h', 'latitude', 'longitude', 'Location_Image']\n"
     ]
    }
   ],
   "source": [
    "# this is \"record data\" each row corresponds to an event:\n",
    "### each event is a water sample from a location on particular day\n",
    "#### for each event there are three samples, those three samples get split between three agar plates\n",
    "##### each plate can have a total result of x_total = x1 + x2 +...+ x6\n",
    "###### x1 ... x6 are subtotals that can be compared across dates and/or locations\n",
    "# do the steps to get the descriptive statistics\n",
    "# create output that can be used by : javaScript, django, bokeh\n",
    "### at a granularity appropriate to establish an accurate assesment of the laboratory results\n",
    "a_cols = list(a.columns)\n",
    "def print_this_list(a):\n",
    "    for x in a:\n",
    "        print(x)\n",
    "print(a_cols)\n",
    "#check the columns"
   ]
  },
  {
   "cell_type": "code",
   "execution_count": 4,
   "metadata": {},
   "outputs": [
    {
     "data": {
      "text/plain": [
       "0    2017/06/12\n",
       "1    2017/06/12\n",
       "2    2017/06/12\n",
       "3    2017/06/12\n",
       "4    2017/06/12\n",
       "5    2017/06/12\n",
       "6    2017/06/19\n",
       "7    2017/06/19\n",
       "8    2017/06/19\n",
       "9    2017/06/19\n",
       "Name: Date, dtype: object"
      ]
     },
     "execution_count": 4,
     "metadata": {},
     "output_type": "execute_result"
    }
   ],
   "source": [
    "# go in a terminal and check the date column\n",
    "# it is in %y%.m%.d format\n",
    "# for whatever reason the pd,datetime did not recoginze the data 17.06.12\n",
    "# it flipped it to : 17.12.06 ---- which wont work\n",
    "# so use some list index and str properties to make this right\n",
    "b = a['Date'].copy()\n",
    "new_dates = []\n",
    "new_dic = {}\n",
    "for x in b:\n",
    "    year = '20'+str(x[6:])\n",
    "    day = x[:2]\n",
    "    month = x[3:5]\n",
    "    new_d = year + '/' + str(month) + '/' + str(day)\n",
    "    new_dates.append({x:new_d})\n",
    "    new_dic.update({x:new_d})\n",
    "new_dates[:10]\n",
    "\n",
    "a['Date'] = a['Date'].map(new_dic)\n",
    "a['Date'][:10]"
   ]
  },
  {
   "cell_type": "code",
   "execution_count": 5,
   "metadata": {},
   "outputs": [],
   "source": [
    "# So there are alot of columns here\n",
    "# index will be\n",
    "# 'Date', 'Location', 'medium', 'Samples', 'Sampling_Notes', 'Water_temp', 'Plating_notes', 'Temp_incubation',\n",
    "# I want that with each record for now\n",
    "\n",
    "plate_one = ['P1_qty_sample',\n",
    "             'Image_24h_fluo_plate_one',\n",
    "             'P1_fluo_halo_colonies',\n",
    "             'P1_fluo_other',\n",
    "             'Plate_one_24h_image',\n",
    "             'P1_24h_big_blue',\n",
    "             'P1_24h_med_blue',\n",
    "             'P1_24h_green',\n",
    "             'P1_24h_turq',\n",
    "             'P1_24h_pink',\n",
    "             'P1_24h_other',\n",
    "             'Comments_p1_24h',\n",
    "             'Plate_one_48h_image',\n",
    "             'P1_48h_big_blue',\n",
    "             'P1_48h_med_blue',\n",
    "             'P1_48h_green',\n",
    "             'P1_48h_turq',\n",
    "             'P1_48h_pink',\n",
    "             'P1_48h_other',\n",
    "             'Comments_p1_48h']"
   ]
  },
  {
   "cell_type": "code",
   "execution_count": 6,
   "metadata": {},
   "outputs": [],
   "source": [
    "plate_two = ['P2_qty_sample',\n",
    "             'Image_24h_fluo_plate_two',\n",
    "             'P2_fluo_halo_colonies',\n",
    "             'P2_fluo_other',\n",
    "             'Plate_two_24h_image',\n",
    "             'P2_24h_big_blue',\n",
    "             'P2_24h_med_blue',\n",
    "             'P2_24h_green',\n",
    "             'P2_24h_turq',\n",
    "             'P2_24h_pink',\n",
    "             'P2_24h_other',\n",
    "             'Comments_p2_24h',\n",
    "             'Plate_two_48h_image',\n",
    "             'P2_48h_big_blue',\n",
    "             'P2_48h_med_blue',             \n",
    "             'P2_48h_green',\n",
    "             'P2_48h_turq',\n",
    "             'P2_48h_pink',\n",
    "             'P2_48h_other',\n",
    "             'Comments_p2_48h']"
   ]
  },
  {
   "cell_type": "code",
   "execution_count": 7,
   "metadata": {},
   "outputs": [],
   "source": [
    "plate_three = ['P3_qty_sample',\n",
    "               'Image_24h_fluo_plate_three',\n",
    "               'p3_fluo_halo_colonies',\n",
    "               'p3_fluo_other',\n",
    "               'Plate_three_24h_image',\n",
    "               'P3_24h_big_blue',\n",
    "               'P3_24h_med_blue',\n",
    "               'P3_24h_green',\n",
    "               'P3_24h_turq',\n",
    "               'P3_24h_pink',\n",
    "               'P3_24h_other',\n",
    "               'Comments_p3_24h',\n",
    "               'Plate_three_48h_image',\n",
    "               'P3_48h_big_blue',\n",
    "               'P3_48h_med_blue',\n",
    "               'P3_48h_green',\n",
    "               'P3_48h_turq',\n",
    "               'P3_48h_pink',\n",
    "               'P3_48h_other',\n",
    "               'Comments_p3_48h'] "
   ]
  },
  {
   "cell_type": "code",
   "execution_count": 8,
   "metadata": {},
   "outputs": [],
   "source": [
    "map_it = ['Location','latitude', 'longitude']"
   ]
  },
  {
   "cell_type": "code",
   "execution_count": 9,
   "metadata": {},
   "outputs": [],
   "source": [
    "index = ['Date',\n",
    "         'Location',\n",
    "         'medium',\n",
    "         'Samples',\n",
    "         'Sampling_Notes',\n",
    "         'Water_temp',\n",
    "         'Plating_notes',\n",
    "         'Temp_incubation',]"
   ]
  },
  {
   "cell_type": "code",
   "execution_count": 10,
   "metadata": {},
   "outputs": [
    {
     "name": "stdout",
     "output_type": "stream",
     "text": [
      "71 71\n"
     ]
    }
   ],
   "source": [
    "# so the info repeats it self for each plate\n",
    "# set up lists and variables to keep track of all that\n",
    "# make sure that all the column names are accounted for\n",
    "# we have yet to account for 'location_image'\n",
    "def count_it(a):\n",
    "    n = 0\n",
    "    for x in a:\n",
    "        a = len(x)\n",
    "        n += a\n",
    "    return n\n",
    "groups = [index, map_it, plate_one, plate_two, plate_three]\n",
    "print(count_it(groups), len(a_cols))\n",
    "# the count works because the column 'location image' is not included"
   ]
  },
  {
   "cell_type": "code",
   "execution_count": 11,
   "metadata": {},
   "outputs": [
    {
     "name": "stdout",
     "output_type": "stream",
     "text": [
      "74 71\n"
     ]
    }
   ],
   "source": [
    "loc_image = ['Date', 'Location', 'Location_Image']\n",
    "groups.append(loc_image)\n",
    "print(count_it(groups), len(a_cols))\n",
    "#should be plus three"
   ]
  },
  {
   "cell_type": "code",
   "execution_count": 12,
   "metadata": {},
   "outputs": [],
   "source": [
    "# okay onwards\n",
    "# break the results into time scale (beacuase i can)\n",
    "# the info repeats it self\n",
    "# this should get dwon to a series of lists\n",
    "# if executed in right sequence as variables \n",
    "# will extract all possible combinations of the data provided\n",
    "plate_one_24 = ['P1_qty_sample',\n",
    "                'Plate_one_24h_image',\n",
    "                'P1_24h_big_blue',\n",
    "                'P1_24h_med_blue',\n",
    "                'P1_24h_green',\n",
    "                'P1_24h_turq',\n",
    "                'P1_24h_pink',\n",
    "                'P1_24h_other',\n",
    "                'Comments_p1_24h',]\n",
    "             \n",
    "plate_one_48 = ['P1_qty_sample',\n",
    "                'Plate_one_48h_image',\n",
    "                'P1_48h_big_blue',\n",
    "                'P1_48h_med_blue',\n",
    "                'P1_48h_green',\n",
    "                'P1_48h_turq',\n",
    "                'P1_48h_pink',\n",
    "                'P1_48h_other',\n",
    "                'Comments_p1_48h']\n"
   ]
  },
  {
   "cell_type": "code",
   "execution_count": 13,
   "metadata": {},
   "outputs": [],
   "source": [
    "# these can also be constructed using a list index method\n",
    "plate_two_24 = ['P2_qty_sample',\n",
    "                'Plate_two_24h_image',\n",
    "                'P2_24h_big_blue',\n",
    "                'P2_24h_med_blue',\n",
    "                'P2_24h_green',\n",
    "                'P2_24h_turq',\n",
    "                'P2_24h_pink',\n",
    "                'P2_24h_other',\n",
    "                'Comments_p2_24h']\n",
    "\n",
    "plate_two_48 = ['P2_qty_sample',\n",
    "                'Plate_two_48h_image',\n",
    "                'P2_48h_big_blue',\n",
    "                'P2_48h_med_blue',             \n",
    "                'P2_48h_green',\n",
    "                'P2_48h_turq',\n",
    "                'P2_48h_pink',\n",
    "                'P2_48h_other',\n",
    "                'Comments_p2_48h']"
   ]
  },
  {
   "cell_type": "code",
   "execution_count": 14,
   "metadata": {},
   "outputs": [],
   "source": [
    "plate_three_24 = ['P3_qty_sample',\n",
    "                  'Plate_three_24h_image',\n",
    "                  'P3_24h_big_blue',\n",
    "                  'P3_24h_med_blue',\n",
    "                  'P3_24h_green',\n",
    "                  'P3_24h_turq',\n",
    "                  'P3_24h_pink',\n",
    "                  'P3_24h_other',\n",
    "                  'Comments_p3_24h',]\n",
    "               \n",
    "plate_three_48 = ['P3_qty_sample',\n",
    "                  'Plate_three_48h_image',\n",
    "                  'P3_48h_big_blue',\n",
    "                  'P3_48h_med_blue',\n",
    "                  'P3_48h_green',\n",
    "                  'P3_48h_turq',\n",
    "                  'P3_48h_pink',\n",
    "                  'P3_48h_other',\n",
    "                  'Comments_p3_48h']"
   ]
  },
  {
   "cell_type": "code",
   "execution_count": 15,
   "metadata": {},
   "outputs": [],
   "source": [
    "plate_one_fluo = ['Image_24h_fluo_plate_one',\n",
    "                  'P1_fluo_halo_colonies',\n",
    "                  'P1_fluo_other']\n",
    "plate_two_fluo = ['Image_24h_fluo_plate_two',\n",
    "                  'P2_fluo_halo_colonies',\n",
    "                  'P2_fluo_other']\n",
    "plate_three_fluo = ['Image_24h_fluo_plate_three',\n",
    "                    'p3_fluo_halo_colonies',\n",
    "                    'p3_fluo_other']"
   ]
  },
  {
   "cell_type": "code",
   "execution_count": 16,
   "metadata": {},
   "outputs": [
    {
     "data": {
      "text/plain": [
       "array([5, 6, 0, 1, 6, 8, 0, 5])"
      ]
     },
     "execution_count": 16,
     "metadata": {},
     "output_type": "execute_result"
    }
   ],
   "source": [
    "# test the list indexes:\n",
    "d = np.random.randint(9, size=8)\n",
    "d"
   ]
  },
  {
   "cell_type": "code",
   "execution_count": 17,
   "metadata": {},
   "outputs": [
    {
     "data": {
      "text/plain": [
       "3"
      ]
     },
     "execution_count": 17,
     "metadata": {},
     "output_type": "execute_result"
    }
   ],
   "source": [
    "# or run this at each loop\n",
    "np.random.choice(9)"
   ]
  },
  {
   "cell_type": "code",
   "execution_count": 18,
   "metadata": {},
   "outputs": [],
   "source": [
    "# this data can be seen as a whole (the sum of all the xis or seperated by incubation time)\n",
    "plate_groups = [plate_one_24, plate_two_24, plate_three_24, plate_one_48, plate_two_48, plate_three_48]\n",
    "plate_24 = plate_groups[:3]\n",
    "plate_48 = plate_groups[3:]"
   ]
  },
  {
   "cell_type": "code",
   "execution_count": 19,
   "metadata": {},
   "outputs": [
    {
     "name": "stdout",
     "output_type": "stream",
     "text": [
      "P1_24h_big_blue\n",
      "P2_24h_big_blue\n",
      "P3_24h_big_blue\n",
      "P1_48h_big_blue\n",
      "P2_48h_big_blue\n",
      "P3_48h_big_blue\n",
      "loop\n"
     ]
    }
   ],
   "source": [
    "# to check this i will grab a random number and sue it to\n",
    "# index the lists created from the columns\n",
    "# these will be used as lables later to call data out\n",
    "# the out pt should be the same for all values x[i] where i = np.random.choice(9)\n",
    "\n",
    "def check_indexes(a):\n",
    "    n = 0\n",
    "    i = np.random.choice(9)\n",
    "    if n <= 4:        \n",
    "        for x in a:\n",
    "            print(x[i])\n",
    "        print('loop')\n",
    "        n += 1\n",
    "        \n",
    "check_indexes(plate_groups)\n",
    "# okay this function can run forever and i get the same output from each group         \n",
    "        "
   ]
  },
  {
   "cell_type": "code",
   "execution_count": 20,
   "metadata": {},
   "outputs": [
    {
     "data": {
      "text/plain": [
       "[Timestamp('2017-06-12 00:00:00'),\n",
       " Timestamp('2017-06-19 00:00:00'),\n",
       " Timestamp('2017-06-26 00:00:00'),\n",
       " Timestamp('2017-07-03 00:00:00'),\n",
       " Timestamp('2017-07-10 00:00:00'),\n",
       " Timestamp('2017-07-17 00:00:00'),\n",
       " Timestamp('2017-07-24 00:00:00'),\n",
       " Timestamp('2017-07-31 00:00:00')]"
      ]
     },
     "execution_count": 20,
     "metadata": {},
     "output_type": "execute_result"
    }
   ],
   "source": [
    "# group the dates by week number\n",
    "# first get a sorted list by date\n",
    "# any way you do it there is a transformation to happen\n",
    "b = a['Date'].copy()\n",
    "b = pd.to_datetime(b, format='%Y/%m/%d')\n",
    "b = list(b)\n",
    "b.sort()\n",
    "b = list(set(b))\n",
    "b.sort()\n",
    "b\n",
    "# the time stamp works here but it is a hassel in js\n",
    "# the value will be kept but I will also asign a week no"
   ]
  },
  {
   "cell_type": "code",
   "execution_count": 21,
   "metadata": {},
   "outputs": [
    {
     "name": "stdout",
     "output_type": "stream",
     "text": [
      "{'Week one': Timestamp('2017-06-12 00:00:00'), 'Week two': Timestamp('2017-06-19 00:00:00'), 'Week three': Timestamp('2017-06-26 00:00:00'), 'Week four': Timestamp('2017-07-03 00:00:00'), 'Week five': Timestamp('2017-07-10 00:00:00'), 'Week six': Timestamp('2017-07-17 00:00:00'), ' Week seven': Timestamp('2017-07-24 00:00:00'), 'Week eight': Timestamp('2017-07-31 00:00:00')} [Timestamp('2017-06-12 00:00:00'), Timestamp('2017-06-19 00:00:00'), Timestamp('2017-06-26 00:00:00'), Timestamp('2017-07-03 00:00:00'), Timestamp('2017-07-10 00:00:00'), Timestamp('2017-07-17 00:00:00'), Timestamp('2017-07-24 00:00:00'), Timestamp('2017-07-31 00:00:00')]\n"
     ]
    }
   ],
   "source": [
    "weeks_l = ['Week one', 'Week two', 'Week three', 'Week four', 'Week five', 'Week six', ' Week seven', 'Week eight']\n",
    "weeks = dict(zip(weeks_l, b))\n",
    "print(weeks, b)"
   ]
  },
  {
   "cell_type": "code",
   "execution_count": 22,
   "metadata": {},
   "outputs": [],
   "source": [
    "# makesure the orignal df is up to speed\n",
    "a['Date'] = pd.to_datetime(a['Date'],format='%Y/%m/%d' )"
   ]
  },
  {
   "cell_type": "code",
   "execution_count": 23,
   "metadata": {},
   "outputs": [
    {
     "data": {
      "text/plain": [
       "['Nernier',\n",
       " 'Hackuarium tap',\n",
       " 'SVT',\n",
       " 'Echandens',\n",
       " 'VNX',\n",
       " 'Hackuarium toilet',\n",
       " 'MRD']"
      ]
     },
     "execution_count": 23,
     "metadata": {},
     "output_type": "execute_result"
    }
   ],
   "source": [
    "# create a list of place names\n",
    "places = list(a['Location'].copy())\n",
    "places = set(places)\n",
    "place = list(places)\n",
    "place"
   ]
  },
  {
   "cell_type": "code",
   "execution_count": 24,
   "metadata": {},
   "outputs": [],
   "source": [
    "place = ['Echandens',\n",
    "         'SVT',\n",
    "         'VNX',\n",
    "         'MRD',\n",
    "         'Nernier',\n",
    "         'Hackuarium tap',\n",
    "         'Hackuarium toilet']\n",
    "\n",
    "# so now I should get a table of values\n",
    "# corresponding to plate number and color for one date, and one location\n",
    "# check to see what happens if use 1 of each list to slice the data-frame\n",
    "c = a[(a.Location == place[4]) & (a.Date == weeks['Week one'])][[plate_one_24[2], plate_two_24[2], plate_three_24[2]]]"
   ]
  },
  {
   "cell_type": "code",
   "execution_count": 25,
   "metadata": {},
   "outputs": [
    {
     "data": {
      "text/html": [
       "<div>\n",
       "<style scoped>\n",
       "    .dataframe tbody tr th:only-of-type {\n",
       "        vertical-align: middle;\n",
       "    }\n",
       "\n",
       "    .dataframe tbody tr th {\n",
       "        vertical-align: top;\n",
       "    }\n",
       "\n",
       "    .dataframe thead th {\n",
       "        text-align: right;\n",
       "    }\n",
       "</style>\n",
       "<table border=\"1\" class=\"dataframe\">\n",
       "  <thead>\n",
       "    <tr style=\"text-align: right;\">\n",
       "      <th></th>\n",
       "      <th>P1_24h_big_blue</th>\n",
       "      <th>P2_24h_big_blue</th>\n",
       "      <th>P3_24h_big_blue</th>\n",
       "    </tr>\n",
       "  </thead>\n",
       "  <tbody>\n",
       "    <tr>\n",
       "      <th>4</th>\n",
       "      <td>1.0</td>\n",
       "      <td>0.0</td>\n",
       "      <td>0.0</td>\n",
       "    </tr>\n",
       "  </tbody>\n",
       "</table>\n",
       "</div>"
      ],
      "text/plain": [
       "   P1_24h_big_blue  P2_24h_big_blue  P3_24h_big_blue\n",
       "4              1.0              0.0              0.0"
      ]
     },
     "execution_count": 25,
     "metadata": {},
     "output_type": "execute_result"
    }
   ],
   "source": [
    "c"
   ]
  },
  {
   "cell_type": "code",
   "execution_count": 26,
   "metadata": {},
   "outputs": [
    {
     "name": "stdout",
     "output_type": "stream",
     "text": [
      "<class 'pandas.core.frame.DataFrame'>\n"
     ]
    }
   ],
   "source": [
    "print(type(c))\n",
    "# that output looks good\n",
    "# create a list index for the plate counts\n",
    "bugs = [2, 3, 4, 5, 6, 7]\n",
    "# this is temporary and will be replaced with a list derived from the column names\n",
    "# this information down here is good to know"
   ]
  },
  {
   "cell_type": "code",
   "execution_count": 27,
   "metadata": {},
   "outputs": [
    {
     "name": "stdout",
     "output_type": "stream",
     "text": [
      "1.0\n",
      "P1_24h_big_blue    1.0\n",
      "P2_24h_big_blue    0.0\n",
      "P3_24h_big_blue    0.0\n",
      "dtype: float64\n"
     ]
    }
   ],
   "source": [
    "# there is already some pandas finctionality here\n",
    "a_sum = c.sum()\n",
    "b_sum = sum(a_sum)\n",
    "c_sum = sum(c.sum())\n",
    "\n",
    "print(c_sum)\n",
    "print(a_sum)"
   ]
  },
  {
   "cell_type": "code",
   "execution_count": 51,
   "metadata": {},
   "outputs": [],
   "source": [
    "# this function produces a dict of results\n",
    "# of the type {placeName:{weeknumber-i, color-i,total-i}...{weeknumber-n, color-n,total-n}}\n",
    "# and gets the color names\n",
    "# this could be used in most js charting libraries\n",
    "#\n",
    "\n",
    "n = {}\n",
    "def results(w,x,y,z):\n",
    "    #f = []\n",
    "    #l = []\n",
    "    m ={}\n",
    "    o = []\n",
    "    #g = []\n",
    "    for key, value in w.items():\n",
    "        for i in z:\n",
    "            total = 0\n",
    "            for plate in y:\n",
    "                c = a[(a.Location == x) & (a.Date == value)][plate[i]]\n",
    "                total += c.sum()\n",
    "                d = {'date': key, 'bug':str(plate[i]),'colonies':c.sum()}\n",
    "                #print(d)\n",
    "                #f.append(d)\n",
    "            if str(plate[i][7:]) not in o:\n",
    "                   o.append(str(plate[i][7:]))\n",
    "            h = {'week':str(key), 'color':str(plate[i][7:]), 'total':total}\n",
    "            #print(h)\n",
    "            m.update({(x, str(key), str(plate[i][7:])):h})\n",
    "    n.update({x:m})\n",
    "                       \n",
    "    return  n, o\n",
    "\n",
    "#v, w, m, n= results(weeks,'VNX', plate_24, bugs)"
   ]
  },
  {
   "cell_type": "code",
   "execution_count": 52,
   "metadata": {},
   "outputs": [],
   "source": [
    "# it runs long, check and see if there are pandas methods\n",
    "# groupby comes to mind ---- to speed this up\n",
    "for x in place:\n",
    "    n, o = results(weeks,x, plate_24, bugs)\n",
    "    \n",
    "    "
   ]
  },
  {
   "cell_type": "code",
   "execution_count": 53,
   "metadata": {},
   "outputs": [
    {
     "data": {
      "text/plain": [
       "(7, 48)"
      ]
     },
     "execution_count": 53,
     "metadata": {},
     "output_type": "execute_result"
    }
   ],
   "source": [
    "# so there are seven dicts with 48 dicts nested in each one\n",
    "# the number makes sense\n",
    "len(n), len(n['SVT'])"
   ]
  },
  {
   "cell_type": "code",
   "execution_count": 45,
   "metadata": {},
   "outputs": [
    {
     "data": {
      "text/plain": [
       "['big_blue', 'med_blue', 'green', 'turq', 'pink', 'other']"
      ]
     },
     "execution_count": 45,
     "metadata": {},
     "output_type": "execute_result"
    }
   ],
   "source": [
    "# this is sufficient to mark a chart\n",
    "# it is easier to remember and shorter to type\n",
    "o"
   ]
  },
  {
   "cell_type": "code",
   "execution_count": 54,
   "metadata": {},
   "outputs": [
    {
     "name": "stdout",
     "output_type": "stream",
     "text": [
      "SVT {'week': 'Week two', 'color': 'med_blue', 'total': 0.0}\n"
     ]
    }
   ],
   "source": [
    "# calling all the varaibles (inlcuding the new one)\n",
    "# produces a result\n",
    "# yay !!\n",
    "print(str(place[1]), n[place[1]][(str(place[1]),weeks_l[1],'med_blue')])"
   ]
  },
  {
   "cell_type": "code",
   "execution_count": 33,
   "metadata": {},
   "outputs": [],
   "source": [
    "# so use that to get weekly totals\n",
    "def week_total_all(dic_t, place, week, bug):\n",
    "    b = {}\n",
    "    for beach in place:\n",
    "        #print(beach)\n",
    "        a = dic_t[beach]\n",
    "        for date in week:\n",
    "            total = 0\n",
    "            for color in bug:\n",
    "                #print(a[(beach, date, color)])\n",
    "                total += a[(beach, date, color)]['total']\n",
    "            #print(beach, date, str(total))\n",
    "            b.update({(beach, date):total})\n",
    "    return b\n",
    "        \n",
    "g = week_total_all(n, place, weeks_l, o)"
   ]
  },
  {
   "cell_type": "code",
   "execution_count": 34,
   "metadata": {},
   "outputs": [],
   "source": [
    "# now I can start to get descriptive statistics and visualisations\n",
    "# seperated by date, location, incubation time, plate number, color\n",
    "# and have output that is almost ready to go for charting (js date and float parse on the browser)\n",
    "# but is good for plotting in matplotlib"
   ]
  },
  {
   "cell_type": "code",
   "execution_count": 55,
   "metadata": {},
   "outputs": [],
   "source": [
    "import matplotlib\n",
    "import matplotlib.pyplot as plt\n",
    "def plot_weekly_totals(wks, plc, g):\n",
    "    rows = len(wks)\n",
    "    cols = len(plc) +1\n",
    "\n",
    "    f, axar = plt.subplots(rows, cols, figsize=(18,14))\n",
    "    f.subplots_adjust(hspace=0.6, wspace=0.3)\n",
    "\n",
    "    for i, n in enumerate(wks):\n",
    "        axar[i, 0].text(0, 0.5, n, fontsize=14)\n",
    "        axar[i, 0].set_axis_off()\n",
    "        for j, o in enumerate(plc):\n",
    "            axar[i, j+1].bar(1, g[(o, n)],)\n",
    "            axar[i, j+1].set_title(o)\n",
    "            axar[i, j+1].set_ylim(0, g[(o, n)]+20)\n",
    "\n",
    "    plt.show()\n"
   ]
  },
  {
   "cell_type": "markdown",
   "metadata": {},
   "source": [
    "## Grid plot of weekly totals for all colors and place names in data\n",
    "## incubation time 24hours"
   ]
  },
  {
   "cell_type": "code",
   "execution_count": 56,
   "metadata": {},
   "outputs": [
    {
     "data": {
      "image/png": "[encoded data removed]",
      "text/plain": [
       "<matplotlib.figure.Figure at 0x7f77da8fc978>"
      ]
     },
     "metadata": {},
     "output_type": "display_data"
    }
   ],
   "source": [
    "plot_weekly_totals(weeks_l, place, g)"
   ]
  },
  {
   "cell_type": "code",
   "execution_count": 57,
   "metadata": {},
   "outputs": [],
   "source": [
    "# lets get total coliforms per week, per location\n",
    "coliforms = o[:2]\n",
    "coli_week = week_total_all(n, place, weeks_l, coliforms)"
   ]
  },
  {
   "cell_type": "markdown",
   "metadata": {},
   "source": [
    "## Grid plot of weekly total (med_blue + big_blue) for all colors and place names\n",
    "## incubation time 24hours"
   ]
  },
  {
   "cell_type": "code",
   "execution_count": 58,
   "metadata": {},
   "outputs": [
    {
     "data": {
      "image/png": "[encoded data removed]",
      "text/plain": [
       "<matplotlib.figure.Figure at 0x7f77d9f46828>"
      ]
     },
     "metadata": {},
     "output_type": "display_data"
    }
   ],
   "source": [
    "plot_weekly_totals(weeks_l, place, coli_week)"
   ]
  },
  {
   "cell_type": "code",
   "execution_count": 59,
   "metadata": {},
   "outputs": [
    {
     "name": "stdout",
     "output_type": "stream",
     "text": [
      "SVT {'week': 'Week two', 'color': 'med_blue', 'total': 0.0}\n"
     ]
    }
   ],
   "source": [
    "print(str(place[1]), n[place[1]][(str(place[1]),weeks_l[1],'med_blue')])"
   ]
  },
  {
   "cell_type": "code",
   "execution_count": 60,
   "metadata": {},
   "outputs": [
    {
     "name": "stdout",
     "output_type": "stream",
     "text": [
      "SVT {'week': 'Week two', 'color': 'big_blue', 'total': 0.0}\n"
     ]
    }
   ],
   "source": [
    "print(str(place[1]), n[place[1]][(str(place[1]),weeks_l[1],'big_blue')])"
   ]
  },
  {
   "cell_type": "code",
   "execution_count": 61,
   "metadata": {},
   "outputs": [
    {
     "data": {
      "text/plain": [
       "0.0"
      ]
     },
     "execution_count": 61,
     "metadata": {},
     "output_type": "execute_result"
    }
   ],
   "source": [
    "coli_week[('SVT', 'Week two')]"
   ]
  },
  {
   "cell_type": "code",
   "execution_count": null,
   "metadata": {},
   "outputs": [],
   "source": []
  }
 ],
 "metadata": {
  "kernelspec": {
   "display_name": "Python 3",
   "language": "python",
   "name": "python3"
  },
  "language_info": {
   "codemirror_mode": {
    "name": "ipython",
    "version": 3
   },
   "file_extension": ".py",
   "mimetype": "text/x-python",
   "name": "python",
   "nbconvert_exporter": "python",
   "pygments_lexer": "ipython3",
   "version": "3.6.4"
  }
 },
 "nbformat": 4,
 "nbformat_minor": 1
}
