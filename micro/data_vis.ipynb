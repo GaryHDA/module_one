{
 "cells": [
  {
   "cell_type": "markdown",
   "metadata": {},
   "source": [
    "### Data transformation and visualiztion note book\n",
    "#### Section micro"
   ]
  },
  {
   "cell_type": "code",
   "execution_count": 1,
   "metadata": {
    "collapsed": true
   },
   "outputs": [],
   "source": [
    "import pandas as pd\n",
    "import numpy as np\n"
   ]
  },
  {
   "cell_type": "code",
   "execution_count": 2,
   "metadata": {
    "collapsed": false
   },
   "outputs": [],
   "source": [
    "# get the data\n",
    "a = pd.read_csv('data/micro(1).csv')"
   ]
  },
  {
   "cell_type": "code",
   "execution_count": 3,
   "metadata": {
    "collapsed": false
   },
   "outputs": [
    {
     "name": "stdout",
     "output_type": "stream",
     "text": [
      "['Date', 'Location', 'medium', 'Samples', 'Sampling_Notes', 'Water_temp', 'Plating_notes', 'Temp_incubation', 'P1_qty_sample', 'Image_24h_fluo_plate_one', 'P1_fluo_halo_colonies', 'P1_fluo_other', 'Plate_one_24h_image', 'P1_24h_big_blue', 'P1_24h_med_blue', 'P1_24h_green', 'P1_24h_turq', 'P1_24h_pink', 'P1_24h_other', 'Comments_p1_24h', 'Plate_one_48h_image', 'P1_48h_big_blue', 'P1_48h_med_blue', 'P1_48h_green', 'P1_48h_turq', 'P1_48h_pink', 'P1_48h_other', 'Comments_p1_48h', 'P2_qty_sample', 'Image_24h_fluo_plate_two', 'P2_fluo_halo_colonies', 'P2_fluo_other', 'Plate_two_24h_image', 'P2_24h_big_blue', 'P2_24h_med_blue', 'P2_24h_green', 'P2_24h_turq', 'P2_24h_pink', 'P2_24h_other', 'Comments_p2_24h', 'Plate_two_48h_image', 'P2_48h_big_blue', 'P2_48h_med_blue', 'P2_48h_green', 'P2_48h_turq', 'P2_48h_pink', 'P2_48h_other', 'Comments_p2_48h', 'P3_qty_sample', 'Image_24h_fluo_plate_three', 'p3_fluo_halo_colonies', 'p3_fluo_other', 'Plate_three_24h_image', 'P3_24h_big_blue', 'P3_24h_med_blue', 'P3_24h_green', 'P3_24h_turq', 'P3_24h_pink', 'P3_24h_other', 'Comments_p3_24h', 'Plate_three_48h_image', 'P3_48h_big_blue', 'P3_48h_med_blue', 'P3_48h_green', 'P3_48h_turq', 'P3_48h_pink', 'P3_48h_other', 'Comments_p3_48h', 'latitude', 'longitude', 'Location_Image']\n"
     ]
    }
   ],
   "source": [
    "a_cols = list(a.columns)\n",
    "def print_this_list(a):\n",
    "    for x in a:\n",
    "        print(x)\n",
    "print(a_cols)"
   ]
  },
  {
   "cell_type": "code",
   "execution_count": 4,
   "metadata": {
    "collapsed": false
   },
   "outputs": [
    {
     "data": {
      "text/plain": [
       "0    2017/06/12\n",
       "1    2017/06/12\n",
       "2    2017/06/12\n",
       "3    2017/06/12\n",
       "4    2017/06/12\n",
       "5    2017/06/12\n",
       "6    2017/06/19\n",
       "7    2017/06/19\n",
       "8    2017/06/19\n",
       "9    2017/06/19\n",
       "Name: Date, dtype: object"
      ]
     },
     "execution_count": 4,
     "metadata": {},
     "output_type": "execute_result"
    }
   ],
   "source": [
    "b = a['Date'].copy()\n",
    "new_dates = []\n",
    "new_dic = {}\n",
    "for x in b:\n",
    "    year = '20'+str(x[6:])\n",
    "    day = x[:2]\n",
    "    month = x[3:5]\n",
    "    new_d = year + '/' + str(month) + '/' + str(day)\n",
    "    new_dates.append({x:new_d})\n",
    "    new_dic.update({x:new_d})\n",
    "new_dates[:10]\n",
    "\n",
    "a['Date'] = a['Date'].map(new_dic)\n",
    "a['Date'][:10]"
   ]
  },
  {
   "cell_type": "code",
   "execution_count": 5,
   "metadata": {
    "collapsed": true
   },
   "outputs": [],
   "source": [
    "# So there are alot of columns here\n",
    "# index will be\n",
    "# 'Date', 'Location', 'medium', 'Samples', 'Sampling_Notes', 'Water_temp', 'Plating_notes', 'Temp_incubation',\n",
    "# I want that with each record for now\n",
    "\n",
    "plate_one = ['P1_qty_sample',\n",
    "             'Image_24h_fluo_plate_one',\n",
    "             'P1_fluo_halo_colonies',\n",
    "             'P1_fluo_other',\n",
    "             'Plate_one_24h_image',\n",
    "             'P1_24h_big_blue',\n",
    "             'P1_24h_med_blue',\n",
    "             'P1_24h_green',\n",
    "             'P1_24h_turq',\n",
    "             'P1_24h_pink',\n",
    "             'P1_24h_other',\n",
    "             'Comments_p1_24h',\n",
    "             'Plate_one_48h_image',\n",
    "             'P1_48h_big_blue',\n",
    "             'P1_48h_med_blue',\n",
    "             'P1_48h_green',\n",
    "             'P1_48h_turq',\n",
    "             'P1_48h_pink',\n",
    "             'P1_48h_other',\n",
    "             'Comments_p1_48h']"
   ]
  },
  {
   "cell_type": "code",
   "execution_count": 6,
   "metadata": {
    "collapsed": true
   },
   "outputs": [],
   "source": [
    "plate_two = ['P2_qty_sample',\n",
    "             'Image_24h_fluo_plate_two',\n",
    "             'P2_fluo_halo_colonies',\n",
    "             'P2_fluo_other',\n",
    "             'Plate_two_24h_image',\n",
    "             'P2_24h_big_blue',\n",
    "             'P2_24h_med_blue',\n",
    "             'P2_24h_green',\n",
    "             'P2_24h_turq',\n",
    "             'P2_24h_pink',\n",
    "             'P2_24h_other',\n",
    "             'Comments_p2_24h',\n",
    "             'Plate_two_48h_image',\n",
    "             'P2_48h_big_blue',\n",
    "             'P2_48h_med_blue',             \n",
    "             'P2_48h_green',\n",
    "             'P2_48h_turq',\n",
    "             'P2_48h_pink',\n",
    "             'P2_48h_other',\n",
    "             'Comments_p2_48h']"
   ]
  },
  {
   "cell_type": "code",
   "execution_count": 7,
   "metadata": {
    "collapsed": true
   },
   "outputs": [],
   "source": [
    "plate_three = ['P3_qty_sample',\n",
    "               'Image_24h_fluo_plate_three',\n",
    "               'p3_fluo_halo_colonies',\n",
    "               'p3_fluo_other',\n",
    "               'Plate_three_24h_image',\n",
    "               'P3_24h_big_blue',\n",
    "               'P3_24h_med_blue',\n",
    "               'P3_24h_green',\n",
    "               'P3_24h_turq',\n",
    "               'P3_24h_pink',\n",
    "               'P3_24h_other',\n",
    "               'Comments_p3_24h',\n",
    "               'Plate_three_48h_image',\n",
    "               'P3_48h_big_blue',\n",
    "               'P3_48h_med_blue',\n",
    "               'P3_48h_green',\n",
    "               'P3_48h_turq',\n",
    "               'P3_48h_pink',\n",
    "               'P3_48h_other',\n",
    "               'Comments_p3_48h'] "
   ]
  },
  {
   "cell_type": "code",
   "execution_count": 8,
   "metadata": {
    "collapsed": true
   },
   "outputs": [],
   "source": [
    "map_it = ['Location','latitude', 'longitude']"
   ]
  },
  {
   "cell_type": "code",
   "execution_count": 9,
   "metadata": {
    "collapsed": true
   },
   "outputs": [],
   "source": [
    "index = ['Date',\n",
    "         'Location',\n",
    "         'medium',\n",
    "         'Samples',\n",
    "         'Sampling_Notes',\n",
    "         'Water_temp',\n",
    "         'Plating_notes',\n",
    "         'Temp_incubation',]"
   ]
  },
  {
   "cell_type": "code",
   "execution_count": 10,
   "metadata": {
    "collapsed": false
   },
   "outputs": [
    {
     "name": "stdout",
     "output_type": "stream",
     "text": [
      "71 71\n"
     ]
    }
   ],
   "source": [
    "def count_it(a):\n",
    "    n = 0\n",
    "    for x in a:\n",
    "        a = len(x)\n",
    "        n += a\n",
    "    return n\n",
    "groups = [index, map_it, plate_one, plate_two, plate_three]\n",
    "print(count_it(groups), len(a_cols))\n",
    "# the count works because the column 'location image' is not included"
   ]
  },
  {
   "cell_type": "code",
   "execution_count": 11,
   "metadata": {
    "collapsed": false
   },
   "outputs": [
    {
     "name": "stdout",
     "output_type": "stream",
     "text": [
      "74 71\n"
     ]
    }
   ],
   "source": [
    "loc_image = ['Date', 'Location', 'Location_Image']\n",
    "groups.append(loc_image)\n",
    "print(count_it(groups), len(a_cols))\n",
    "#should be plus three"
   ]
  },
  {
   "cell_type": "code",
   "execution_count": 12,
   "metadata": {
    "collapsed": false
   },
   "outputs": [],
   "source": [
    "# okay onwards\n",
    "plate_one_24 = ['P1_qty_sample',\n",
    "                'Plate_one_24h_image',\n",
    "                'P1_24h_big_blue',\n",
    "                'P1_24h_med_blue',\n",
    "                'P1_24h_green',\n",
    "                'P1_24h_turq',\n",
    "                'P1_24h_pink',\n",
    "                'P1_24h_other',\n",
    "                'Comments_p1_24h',]\n",
    "             \n",
    "plate_one_48 = ['P1_qty_sample',\n",
    "                'Plate_one_48h_image',\n",
    "                'P1_48h_big_blue',\n",
    "                'P1_48h_med_blue',\n",
    "                'P1_48h_green',\n",
    "                'P1_48h_turq',\n",
    "                'P1_48h_pink',\n",
    "                'P1_48h_other',\n",
    "                'Comments_p1_48h']\n"
   ]
  },
  {
   "cell_type": "code",
   "execution_count": 13,
   "metadata": {
    "collapsed": true
   },
   "outputs": [],
   "source": [
    "plate_two_24 = ['P2_qty_sample',\n",
    "                'Plate_two_24h_image',\n",
    "                'P2_24h_big_blue',\n",
    "                'P2_24h_med_blue',\n",
    "                'P2_24h_green',\n",
    "                'P2_24h_turq',\n",
    "                'P2_24h_pink',\n",
    "                'P2_24h_other',\n",
    "                'Comments_p2_24h']\n",
    "\n",
    "plate_two_48 = ['P2_qty_sample',\n",
    "                'Plate_two_48h_image',\n",
    "                'P2_48h_big_blue',\n",
    "                'P2_48h_med_blue',             \n",
    "                'P2_48h_green',\n",
    "                'P2_48h_turq',\n",
    "                'P2_48h_pink',\n",
    "                'P2_48h_other',\n",
    "                'Comments_p2_48h']"
   ]
  },
  {
   "cell_type": "code",
   "execution_count": 14,
   "metadata": {
    "collapsed": true
   },
   "outputs": [],
   "source": [
    "plate_three_24 = ['P3_qty_sample',\n",
    "                  'Plate_three_24h_image',\n",
    "                  'P3_24h_big_blue',\n",
    "                  'P3_24h_med_blue',\n",
    "                  'P3_24h_green',\n",
    "                  'P3_24h_turq',\n",
    "                  'P3_24h_pink',\n",
    "                  'P3_24h_other',\n",
    "                  'Comments_p3_24h',]\n",
    "               \n",
    "plate_three_48 = ['P3_qty_sample',\n",
    "                  'Plate_three_48h_image',\n",
    "                  'P3_48h_big_blue',\n",
    "                  'P3_48h_med_blue',\n",
    "                  'P3_48h_green',\n",
    "                  'P3_48h_turq',\n",
    "                  'P3_48h_pink',\n",
    "                  'P3_48h_other',\n",
    "                  'Comments_p3_48h']"
   ]
  },
  {
   "cell_type": "code",
   "execution_count": 15,
   "metadata": {
    "collapsed": true
   },
   "outputs": [],
   "source": [
    "plate_one_fluo = ['Image_24h_fluo_plate_one',\n",
    "                  'P1_fluo_halo_colonies',\n",
    "                  'P1_fluo_other']\n",
    "plate_two_fluo = ['Image_24h_fluo_plate_two',\n",
    "                  'P2_fluo_halo_colonies',\n",
    "                  'P2_fluo_other']\n",
    "plate_three_fluo = ['Image_24h_fluo_plate_three',\n",
    "                    'p3_fluo_halo_colonies',\n",
    "                    'p3_fluo_other']"
   ]
  },
  {
   "cell_type": "code",
   "execution_count": 16,
   "metadata": {
    "collapsed": false
   },
   "outputs": [
    {
     "data": {
      "text/plain": [
       "array([6, 4, 0, 4, 6, 5, 2, 6])"
      ]
     },
     "execution_count": 16,
     "metadata": {},
     "output_type": "execute_result"
    }
   ],
   "source": [
    "# test the list indexes:\n",
    "d = np.random.randint(9, size=8)\n",
    "d"
   ]
  },
  {
   "cell_type": "code",
   "execution_count": 17,
   "metadata": {
    "collapsed": false
   },
   "outputs": [
    {
     "data": {
      "text/plain": [
       "4"
      ]
     },
     "execution_count": 17,
     "metadata": {},
     "output_type": "execute_result"
    }
   ],
   "source": [
    "# or run this at each loop\n",
    "np.random.choice(9)"
   ]
  },
  {
   "cell_type": "code",
   "execution_count": 18,
   "metadata": {
    "collapsed": true
   },
   "outputs": [],
   "source": [
    "plate_groups = [plate_one_24, plate_two_24, plate_three_24, plate_one_48, plate_two_48, plate_three_48]\n",
    "plate_24 = plate_groups[:3]\n",
    "plate_48 = plate_groups[3:]"
   ]
  },
  {
   "cell_type": "code",
   "execution_count": 19,
   "metadata": {
    "collapsed": false
   },
   "outputs": [
    {
     "name": "stdout",
     "output_type": "stream",
     "text": [
      "P1_24h_green\n",
      "P2_24h_green\n",
      "P3_24h_green\n",
      "P1_48h_green\n",
      "P2_48h_green\n",
      "P3_48h_green\n",
      "loop\n"
     ]
    }
   ],
   "source": [
    "def check_indexes(a):\n",
    "    n = 0\n",
    "    i = np.random.choice(9)\n",
    "    if n <= 4:\n",
    "        \n",
    "        for x in a:\n",
    "            print(x[i])\n",
    "        print('loop')\n",
    "        n += 1\n",
    "        \n",
    "check_indexes(plate_groups)\n",
    "# okay this function can run forever and i get the same output from each group         \n",
    "        "
   ]
  },
  {
   "cell_type": "code",
   "execution_count": 20,
   "metadata": {
    "collapsed": false
   },
   "outputs": [
    {
     "data": {
      "text/plain": [
       "{Timestamp('2017-06-12 00:00:00'),\n",
       " Timestamp('2017-06-19 00:00:00'),\n",
       " Timestamp('2017-06-26 00:00:00'),\n",
       " Timestamp('2017-07-03 00:00:00'),\n",
       " Timestamp('2017-07-10 00:00:00'),\n",
       " Timestamp('2017-07-17 00:00:00'),\n",
       " Timestamp('2017-07-24 00:00:00'),\n",
       " Timestamp('2017-07-31 00:00:00')}"
      ]
     },
     "execution_count": 20,
     "metadata": {},
     "output_type": "execute_result"
    }
   ],
   "source": [
    "# group the dates by week number\n",
    "# first get a sorted list by date\n",
    "# any way you do it there is a transformation to happen\n",
    "b = a['Date'].copy()\n",
    "b = pd.to_datetime(b, format='%Y/%m/%d')\n",
    "b = list(b)\n",
    "b.sort()\n",
    "b = set(b)\n",
    "b"
   ]
  },
  {
   "cell_type": "code",
   "execution_count": 21,
   "metadata": {
    "collapsed": false
   },
   "outputs": [
    {
     "name": "stdout",
     "output_type": "stream",
     "text": [
      "{'Week one': Timestamp('2017-06-19 00:00:00'), 'Week two': Timestamp('2017-07-10 00:00:00'), 'Week three': Timestamp('2017-06-12 00:00:00'), 'Week four': Timestamp('2017-07-24 00:00:00'), 'Week five': Timestamp('2017-07-31 00:00:00'), 'Week six': Timestamp('2017-07-17 00:00:00'), ' Week seven': Timestamp('2017-06-26 00:00:00'), 'Week eight': Timestamp('2017-07-03 00:00:00')} {Timestamp('2017-06-19 00:00:00'), Timestamp('2017-07-10 00:00:00'), Timestamp('2017-06-12 00:00:00'), Timestamp('2017-07-24 00:00:00'), Timestamp('2017-07-31 00:00:00'), Timestamp('2017-07-17 00:00:00'), Timestamp('2017-06-26 00:00:00'), Timestamp('2017-07-03 00:00:00')}\n"
     ]
    }
   ],
   "source": [
    "weeks_l = ['Week one', 'Week two', 'Week three', 'Week four', 'Week five', 'Week six', ' Week seven', 'Week eight']\n",
    "weeks = dict(zip(weeks_l, b))\n",
    "print(weeks, b)"
   ]
  },
  {
   "cell_type": "code",
   "execution_count": 22,
   "metadata": {
    "collapsed": true
   },
   "outputs": [],
   "source": [
    "a['Date'] = pd.to_datetime(a['Date'],format='%Y/%m/%d' )"
   ]
  },
  {
   "cell_type": "code",
   "execution_count": 23,
   "metadata": {
    "collapsed": false
   },
   "outputs": [
    {
     "data": {
      "text/plain": [
       "['SVT',\n",
       " 'MRD',\n",
       " 'Echandens',\n",
       " 'VNX',\n",
       " 'Nernier',\n",
       " 'Hackuarium tap',\n",
       " 'Hackuarium toilet']"
      ]
     },
     "execution_count": 23,
     "metadata": {},
     "output_type": "execute_result"
    }
   ],
   "source": [
    "# create a list of place names\n",
    "places = list(a['Location'].copy())\n",
    "places = set(places)\n",
    "place = list(places)\n",
    "place"
   ]
  },
  {
   "cell_type": "code",
   "execution_count": 24,
   "metadata": {
    "collapsed": false
   },
   "outputs": [],
   "source": [
    "# check to see what happens if use 1 of each list to slice the data-frame\n",
    "c = a[(a.Location == place[4]) & (a.Date == weeks['Week one'])][[plate_one_24[2], plate_two_24[2], plate_three_24[2]]]"
   ]
  },
  {
   "cell_type": "code",
   "execution_count": 25,
   "metadata": {
    "collapsed": false
   },
   "outputs": [
    {
     "data": {
      "text/html": [
       "<div>\n",
       "<table border=\"1\" class=\"dataframe\">\n",
       "  <thead>\n",
       "    <tr style=\"text-align: right;\">\n",
       "      <th></th>\n",
       "      <th>P1_24h_big_blue</th>\n",
       "      <th>P2_24h_big_blue</th>\n",
       "      <th>P3_24h_big_blue</th>\n",
       "    </tr>\n",
       "  </thead>\n",
       "  <tbody>\n",
       "  </tbody>\n",
       "</table>\n",
       "</div>"
      ],
      "text/plain": [
       "Empty DataFrame\n",
       "Columns: [P1_24h_big_blue, P2_24h_big_blue, P3_24h_big_blue]\n",
       "Index: []"
      ]
     },
     "execution_count": 25,
     "metadata": {},
     "output_type": "execute_result"
    }
   ],
   "source": [
    "c"
   ]
  },
  {
   "cell_type": "code",
   "execution_count": 26,
   "metadata": {
    "collapsed": true
   },
   "outputs": [],
   "source": [
    "# that output looks good\n",
    "# create a list index for the plate counts\n",
    "bugs = [2, 3, 4, 5, 6, 7]"
   ]
  },
  {
   "cell_type": "code",
   "execution_count": 27,
   "metadata": {
    "collapsed": false
   },
   "outputs": [
    {
     "name": "stdout",
     "output_type": "stream",
     "text": [
      "THIS is the total for Week one VNX big_blue: 0.0\n",
      "THIS is the total for Week one VNX med_blue: 0.0\n",
      "THIS is the total for Week one VNX green: 0.0\n",
      "THIS is the total for Week one VNX turq: 0.0\n",
      "THIS is the total for Week one VNX pink: 0.0\n",
      "THIS is the total for Week one VNX other: 0.0\n",
      "THIS is the total for Week two VNX big_blue: 0.0\n",
      "THIS is the total for Week two VNX med_blue: 67.0\n",
      "THIS is the total for Week two VNX green: 0.0\n",
      "THIS is the total for Week two VNX turq: 0.0\n",
      "THIS is the total for Week two VNX pink: 71.0\n",
      "THIS is the total for Week two VNX other: 0.0\n",
      "THIS is the total for Week three VNX big_blue: 0.0\n",
      "THIS is the total for Week three VNX med_blue: 0.0\n",
      "THIS is the total for Week three VNX green: 0.0\n",
      "THIS is the total for Week three VNX turq: 0.0\n",
      "THIS is the total for Week three VNX pink: 0.0\n",
      "THIS is the total for Week three VNX other: 0.0\n",
      "THIS is the total for Week four VNX big_blue: 0.0\n",
      "THIS is the total for Week four VNX med_blue: 14.0\n",
      "THIS is the total for Week four VNX green: 0.0\n",
      "THIS is the total for Week four VNX turq: 0.0\n",
      "THIS is the total for Week four VNX pink: 5.0\n",
      "THIS is the total for Week four VNX other: 38.0\n",
      "THIS is the total for Week five VNX big_blue: 0.0\n",
      "THIS is the total for Week five VNX med_blue: 0.0\n",
      "THIS is the total for Week five VNX green: 0.0\n",
      "THIS is the total for Week five VNX turq: 0.0\n",
      "THIS is the total for Week five VNX pink: 0.0\n",
      "THIS is the total for Week five VNX other: 0.0\n",
      "THIS is the total for Week six VNX big_blue: 0.0\n",
      "THIS is the total for Week six VNX med_blue: 24.0\n",
      "THIS is the total for Week six VNX green: 0.0\n",
      "THIS is the total for Week six VNX turq: 0.0\n",
      "THIS is the total for Week six VNX pink: 20.0\n",
      "THIS is the total for Week six VNX other: 35.0\n",
      "THIS is the total for  Week seven VNX big_blue: 4.0\n",
      "THIS is the total for  Week seven VNX med_blue: 0.0\n",
      "THIS is the total for  Week seven VNX green: 0.0\n",
      "THIS is the total for  Week seven VNX turq: 0.0\n",
      "THIS is the total for  Week seven VNX pink: 1.0\n",
      "THIS is the total for  Week seven VNX other: 0.0\n",
      "THIS is the total for Week eight VNX big_blue: 32.0\n",
      "THIS is the total for Week eight VNX med_blue: 12.0\n",
      "THIS is the total for Week eight VNX green: 0.0\n",
      "THIS is the total for Week eight VNX turq: 0.0\n",
      "THIS is the total for Week eight VNX pink: 4.0\n",
      "THIS is the total for Week eight VNX other: 0.0\n"
     ]
    }
   ],
   "source": [
    "def results(w,x,y,z):\n",
    "    f = []\n",
    "    for key, value in w.items():\n",
    "        \n",
    "        for i in z:\n",
    "            total = 0\n",
    "            for plate in y:\n",
    "                c = a[(a.Location == x) & (a.Date == value)][plate[i]]\n",
    "                total += c.sum()\n",
    "                #print(c)\n",
    "                d = {'date': key, 'bug':str(plate[i]),'colonies':c.sum()}\n",
    "                #print(d)\n",
    "                f.append(d)\n",
    "            print('THIS is the total for ' + str(key) + ' ' + str(x) + ' ' + str(plate[i][7:]) + ': ' + str(total))\n",
    "        #print('THIS is the total for ' + str(key) + ' ' + str(x) + ' ' + str(plate[i][7:]) + ': ' + str(total))                \n",
    "    return f\n",
    "\n",
    "v = results(weeks,'VNX', plate_24, bugs)"
   ]
  },
  {
   "cell_type": "code",
   "execution_count": 29,
   "metadata": {
    "collapsed": false
   },
   "outputs": [
    {
     "data": {
      "text/plain": [
       "[{'bug': 'P1_24h_big_blue', 'colonies': 0.0, 'date': 'Week one'},\n",
       " {'bug': 'P2_24h_big_blue', 'colonies': 0.0, 'date': 'Week one'},\n",
       " {'bug': 'P3_24h_big_blue', 'colonies': 0.0, 'date': 'Week one'},\n",
       " {'bug': 'P1_24h_med_blue', 'colonies': 0.0, 'date': 'Week one'},\n",
       " {'bug': 'P2_24h_med_blue', 'colonies': 0.0, 'date': 'Week one'},\n",
       " {'bug': 'P3_24h_med_blue', 'colonies': 0.0, 'date': 'Week one'},\n",
       " {'bug': 'P1_24h_green', 'colonies': 0.0, 'date': 'Week one'},\n",
       " {'bug': 'P2_24h_green', 'colonies': 0.0, 'date': 'Week one'},\n",
       " {'bug': 'P3_24h_green', 'colonies': 0.0, 'date': 'Week one'},\n",
       " {'bug': 'P1_24h_turq', 'colonies': 0, 'date': 'Week one'},\n",
       " {'bug': 'P2_24h_turq', 'colonies': 0.0, 'date': 'Week one'},\n",
       " {'bug': 'P3_24h_turq', 'colonies': 0.0, 'date': 'Week one'},\n",
       " {'bug': 'P1_24h_pink', 'colonies': 0.0, 'date': 'Week one'},\n",
       " {'bug': 'P2_24h_pink', 'colonies': 0.0, 'date': 'Week one'},\n",
       " {'bug': 'P3_24h_pink', 'colonies': 0.0, 'date': 'Week one'},\n",
       " {'bug': 'P1_24h_other', 'colonies': 0.0, 'date': 'Week one'},\n",
       " {'bug': 'P2_24h_other', 'colonies': 0.0, 'date': 'Week one'},\n",
       " {'bug': 'P3_24h_other', 'colonies': 0.0, 'date': 'Week one'},\n",
       " {'bug': 'P1_24h_big_blue', 'colonies': 0.0, 'date': 'Week two'},\n",
       " {'bug': 'P2_24h_big_blue', 'colonies': 0.0, 'date': 'Week two'},\n",
       " {'bug': 'P3_24h_big_blue', 'colonies': 0.0, 'date': 'Week two'},\n",
       " {'bug': 'P1_24h_med_blue', 'colonies': 57.0, 'date': 'Week two'},\n",
       " {'bug': 'P2_24h_med_blue', 'colonies': 0.0, 'date': 'Week two'},\n",
       " {'bug': 'P3_24h_med_blue', 'colonies': 10.0, 'date': 'Week two'},\n",
       " {'bug': 'P1_24h_green', 'colonies': 0.0, 'date': 'Week two'},\n",
       " {'bug': 'P2_24h_green', 'colonies': 0.0, 'date': 'Week two'},\n",
       " {'bug': 'P3_24h_green', 'colonies': 0.0, 'date': 'Week two'},\n",
       " {'bug': 'P1_24h_turq', 'colonies': 0, 'date': 'Week two'},\n",
       " {'bug': 'P2_24h_turq', 'colonies': 0.0, 'date': 'Week two'},\n",
       " {'bug': 'P3_24h_turq', 'colonies': 0.0, 'date': 'Week two'},\n",
       " {'bug': 'P1_24h_pink', 'colonies': 34.0, 'date': 'Week two'},\n",
       " {'bug': 'P2_24h_pink', 'colonies': 14.0, 'date': 'Week two'},\n",
       " {'bug': 'P3_24h_pink', 'colonies': 23.0, 'date': 'Week two'},\n",
       " {'bug': 'P1_24h_other', 'colonies': 0.0, 'date': 'Week two'},\n",
       " {'bug': 'P2_24h_other', 'colonies': 0.0, 'date': 'Week two'},\n",
       " {'bug': 'P3_24h_other', 'colonies': 0.0, 'date': 'Week two'},\n",
       " {'bug': 'P1_24h_big_blue', 'colonies': 0.0, 'date': 'Week three'},\n",
       " {'bug': 'P2_24h_big_blue', 'colonies': 0.0, 'date': 'Week three'},\n",
       " {'bug': 'P3_24h_big_blue', 'colonies': 0.0, 'date': 'Week three'},\n",
       " {'bug': 'P1_24h_med_blue', 'colonies': 0.0, 'date': 'Week three'},\n",
       " {'bug': 'P2_24h_med_blue', 'colonies': 0.0, 'date': 'Week three'},\n",
       " {'bug': 'P3_24h_med_blue', 'colonies': 0.0, 'date': 'Week three'},\n",
       " {'bug': 'P1_24h_green', 'colonies': 0.0, 'date': 'Week three'},\n",
       " {'bug': 'P2_24h_green', 'colonies': 0.0, 'date': 'Week three'},\n",
       " {'bug': 'P3_24h_green', 'colonies': 0.0, 'date': 'Week three'},\n",
       " {'bug': 'P1_24h_turq', 'colonies': 0, 'date': 'Week three'},\n",
       " {'bug': 'P2_24h_turq', 'colonies': 0.0, 'date': 'Week three'},\n",
       " {'bug': 'P3_24h_turq', 'colonies': 0.0, 'date': 'Week three'},\n",
       " {'bug': 'P1_24h_pink', 'colonies': 0.0, 'date': 'Week three'},\n",
       " {'bug': 'P2_24h_pink', 'colonies': 0.0, 'date': 'Week three'},\n",
       " {'bug': 'P3_24h_pink', 'colonies': 0.0, 'date': 'Week three'},\n",
       " {'bug': 'P1_24h_other', 'colonies': 0.0, 'date': 'Week three'},\n",
       " {'bug': 'P2_24h_other', 'colonies': 0.0, 'date': 'Week three'},\n",
       " {'bug': 'P3_24h_other', 'colonies': 0.0, 'date': 'Week three'},\n",
       " {'bug': 'P1_24h_big_blue', 'colonies': 0.0, 'date': 'Week four'},\n",
       " {'bug': 'P2_24h_big_blue', 'colonies': 0.0, 'date': 'Week four'},\n",
       " {'bug': 'P3_24h_big_blue', 'colonies': 0.0, 'date': 'Week four'},\n",
       " {'bug': 'P1_24h_med_blue', 'colonies': 12.0, 'date': 'Week four'},\n",
       " {'bug': 'P2_24h_med_blue', 'colonies': 0.0, 'date': 'Week four'},\n",
       " {'bug': 'P3_24h_med_blue', 'colonies': 2.0, 'date': 'Week four'},\n",
       " {'bug': 'P1_24h_green', 'colonies': 0.0, 'date': 'Week four'},\n",
       " {'bug': 'P2_24h_green', 'colonies': 0.0, 'date': 'Week four'},\n",
       " {'bug': 'P3_24h_green', 'colonies': 0.0, 'date': 'Week four'},\n",
       " {'bug': 'P1_24h_turq', 'colonies': 0, 'date': 'Week four'},\n",
       " {'bug': 'P2_24h_turq', 'colonies': 0.0, 'date': 'Week four'},\n",
       " {'bug': 'P3_24h_turq', 'colonies': 0.0, 'date': 'Week four'},\n",
       " {'bug': 'P1_24h_pink', 'colonies': 5.0, 'date': 'Week four'},\n",
       " {'bug': 'P2_24h_pink', 'colonies': 0.0, 'date': 'Week four'},\n",
       " {'bug': 'P3_24h_pink', 'colonies': 0.0, 'date': 'Week four'},\n",
       " {'bug': 'P1_24h_other', 'colonies': 38.0, 'date': 'Week four'},\n",
       " {'bug': 'P2_24h_other', 'colonies': 0.0, 'date': 'Week four'},\n",
       " {'bug': 'P3_24h_other', 'colonies': 0.0, 'date': 'Week four'},\n",
       " {'bug': 'P1_24h_big_blue', 'colonies': 0.0, 'date': 'Week five'},\n",
       " {'bug': 'P2_24h_big_blue', 'colonies': 0.0, 'date': 'Week five'},\n",
       " {'bug': 'P3_24h_big_blue', 'colonies': 0.0, 'date': 'Week five'},\n",
       " {'bug': 'P1_24h_med_blue', 'colonies': 0.0, 'date': 'Week five'},\n",
       " {'bug': 'P2_24h_med_blue', 'colonies': 0.0, 'date': 'Week five'},\n",
       " {'bug': 'P3_24h_med_blue', 'colonies': 0.0, 'date': 'Week five'},\n",
       " {'bug': 'P1_24h_green', 'colonies': 0.0, 'date': 'Week five'},\n",
       " {'bug': 'P2_24h_green', 'colonies': 0.0, 'date': 'Week five'},\n",
       " {'bug': 'P3_24h_green', 'colonies': 0.0, 'date': 'Week five'},\n",
       " {'bug': 'P1_24h_turq', 'colonies': 0, 'date': 'Week five'},\n",
       " {'bug': 'P2_24h_turq', 'colonies': 0.0, 'date': 'Week five'},\n",
       " {'bug': 'P3_24h_turq', 'colonies': 0.0, 'date': 'Week five'},\n",
       " {'bug': 'P1_24h_pink', 'colonies': 0.0, 'date': 'Week five'},\n",
       " {'bug': 'P2_24h_pink', 'colonies': 0.0, 'date': 'Week five'},\n",
       " {'bug': 'P3_24h_pink', 'colonies': 0.0, 'date': 'Week five'},\n",
       " {'bug': 'P1_24h_other', 'colonies': 0.0, 'date': 'Week five'},\n",
       " {'bug': 'P2_24h_other', 'colonies': 0.0, 'date': 'Week five'},\n",
       " {'bug': 'P3_24h_other', 'colonies': 0.0, 'date': 'Week five'},\n",
       " {'bug': 'P1_24h_big_blue', 'colonies': 0.0, 'date': 'Week six'},\n",
       " {'bug': 'P2_24h_big_blue', 'colonies': 0.0, 'date': 'Week six'},\n",
       " {'bug': 'P3_24h_big_blue', 'colonies': 0.0, 'date': 'Week six'},\n",
       " {'bug': 'P1_24h_med_blue', 'colonies': 23.0, 'date': 'Week six'},\n",
       " {'bug': 'P2_24h_med_blue', 'colonies': 0.0, 'date': 'Week six'},\n",
       " {'bug': 'P3_24h_med_blue', 'colonies': 1.0, 'date': 'Week six'},\n",
       " {'bug': 'P1_24h_green', 'colonies': 0.0, 'date': 'Week six'},\n",
       " {'bug': 'P2_24h_green', 'colonies': 0.0, 'date': 'Week six'},\n",
       " {'bug': 'P3_24h_green', 'colonies': 0.0, 'date': 'Week six'},\n",
       " {'bug': 'P1_24h_turq', 'colonies': 0, 'date': 'Week six'},\n",
       " {'bug': 'P2_24h_turq', 'colonies': 0.0, 'date': 'Week six'},\n",
       " {'bug': 'P3_24h_turq', 'colonies': 0.0, 'date': 'Week six'},\n",
       " {'bug': 'P1_24h_pink', 'colonies': 20.0, 'date': 'Week six'},\n",
       " {'bug': 'P2_24h_pink', 'colonies': 0.0, 'date': 'Week six'},\n",
       " {'bug': 'P3_24h_pink', 'colonies': 0.0, 'date': 'Week six'},\n",
       " {'bug': 'P1_24h_other', 'colonies': 13.0, 'date': 'Week six'},\n",
       " {'bug': 'P2_24h_other', 'colonies': 12.0, 'date': 'Week six'},\n",
       " {'bug': 'P3_24h_other', 'colonies': 10.0, 'date': 'Week six'},\n",
       " {'bug': 'P1_24h_big_blue', 'colonies': 2.0, 'date': ' Week seven'},\n",
       " {'bug': 'P2_24h_big_blue', 'colonies': 1.0, 'date': ' Week seven'},\n",
       " {'bug': 'P3_24h_big_blue', 'colonies': 1.0, 'date': ' Week seven'},\n",
       " {'bug': 'P1_24h_med_blue', 'colonies': 0.0, 'date': ' Week seven'},\n",
       " {'bug': 'P2_24h_med_blue', 'colonies': 0.0, 'date': ' Week seven'},\n",
       " {'bug': 'P3_24h_med_blue', 'colonies': 0.0, 'date': ' Week seven'},\n",
       " {'bug': 'P1_24h_green', 'colonies': 0.0, 'date': ' Week seven'},\n",
       " {'bug': 'P2_24h_green', 'colonies': 0.0, 'date': ' Week seven'},\n",
       " {'bug': 'P3_24h_green', 'colonies': 0.0, 'date': ' Week seven'},\n",
       " {'bug': 'P1_24h_turq', 'colonies': 0, 'date': ' Week seven'},\n",
       " {'bug': 'P2_24h_turq', 'colonies': 0.0, 'date': ' Week seven'},\n",
       " {'bug': 'P3_24h_turq', 'colonies': 0.0, 'date': ' Week seven'},\n",
       " {'bug': 'P1_24h_pink', 'colonies': 0.0, 'date': ' Week seven'},\n",
       " {'bug': 'P2_24h_pink', 'colonies': 0.0, 'date': ' Week seven'},\n",
       " {'bug': 'P3_24h_pink', 'colonies': 1.0, 'date': ' Week seven'},\n",
       " {'bug': 'P1_24h_other', 'colonies': 0.0, 'date': ' Week seven'},\n",
       " {'bug': 'P2_24h_other', 'colonies': 0.0, 'date': ' Week seven'},\n",
       " {'bug': 'P3_24h_other', 'colonies': 0.0, 'date': ' Week seven'},\n",
       " {'bug': 'P1_24h_big_blue', 'colonies': 13.0, 'date': 'Week eight'},\n",
       " {'bug': 'P2_24h_big_blue', 'colonies': 8.0, 'date': 'Week eight'},\n",
       " {'bug': 'P3_24h_big_blue', 'colonies': 11.0, 'date': 'Week eight'},\n",
       " {'bug': 'P1_24h_med_blue', 'colonies': 5.0, 'date': 'Week eight'},\n",
       " {'bug': 'P2_24h_med_blue', 'colonies': 2.0, 'date': 'Week eight'},\n",
       " {'bug': 'P3_24h_med_blue', 'colonies': 5.0, 'date': 'Week eight'},\n",
       " {'bug': 'P1_24h_green', 'colonies': 0.0, 'date': 'Week eight'},\n",
       " {'bug': 'P2_24h_green', 'colonies': 0.0, 'date': 'Week eight'},\n",
       " {'bug': 'P3_24h_green', 'colonies': 0.0, 'date': 'Week eight'},\n",
       " {'bug': 'P1_24h_turq', 'colonies': 0, 'date': 'Week eight'},\n",
       " {'bug': 'P2_24h_turq', 'colonies': 0.0, 'date': 'Week eight'},\n",
       " {'bug': 'P3_24h_turq', 'colonies': 0.0, 'date': 'Week eight'},\n",
       " {'bug': 'P1_24h_pink', 'colonies': 1.0, 'date': 'Week eight'},\n",
       " {'bug': 'P2_24h_pink', 'colonies': 0.0, 'date': 'Week eight'},\n",
       " {'bug': 'P3_24h_pink', 'colonies': 3.0, 'date': 'Week eight'},\n",
       " {'bug': 'P1_24h_other', 'colonies': 0.0, 'date': 'Week eight'},\n",
       " {'bug': 'P2_24h_other', 'colonies': 0.0, 'date': 'Week eight'},\n",
       " {'bug': 'P3_24h_other', 'colonies': 0.0, 'date': 'Week eight'}]"
      ]
     },
     "execution_count": 29,
     "metadata": {},
     "output_type": "execute_result"
    }
   ],
   "source": [
    "v"
   ]
  },
  {
   "cell_type": "code",
   "execution_count": null,
   "metadata": {
    "collapsed": true
   },
   "outputs": [],
   "source": []
  }
 ],
 "metadata": {
  "kernelspec": {
   "display_name": "Python 3.6",
   "language": "python",
   "name": "python3.6"
  },
  "language_info": {
   "codemirror_mode": {
    "name": "ipython",
    "version": 3
   },
   "file_extension": ".py",
   "mimetype": "text/x-python",
   "name": "python",
   "nbconvert_exporter": "python",
   "pygments_lexer": "ipython3",
   "version": "3.6.0"
  }
 },
 "nbformat": 4,
 "nbformat_minor": 0
}
